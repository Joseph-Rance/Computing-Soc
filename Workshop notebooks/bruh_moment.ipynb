{
  "nbformat": 4,
  "nbformat_minor": 0,
  "metadata": {
    "colab": {
      "name": "bruh moment.ipynb",
      "provenance": [],
      "collapsed_sections": []
    },
    "kernelspec": {
      "name": "python3",
      "display_name": "Python 3"
    }
  },
  "cells": [
    {
      "cell_type": "code",
      "metadata": {
        "id": "c9_eAHA3445Y",
        "colab_type": "code",
        "colab": {
          "base_uri": "https://localhost:8080/",
          "height": 207
        },
        "outputId": "8360fb6f-fc35-4191-e11a-87dba25028be"
      },
      "source": [
        "pip install discord.py"
      ],
      "execution_count": 2,
      "outputs": [
        {
          "output_type": "stream",
          "text": [
            "Requirement already satisfied: discord.py in /usr/local/lib/python3.6/dist-packages (1.4.1)\n",
            "Requirement already satisfied: aiohttp<3.7.0,>=3.6.0 in /usr/local/lib/python3.6/dist-packages (from discord.py) (3.6.2)\n",
            "Requirement already satisfied: yarl<2.0,>=1.0 in /usr/local/lib/python3.6/dist-packages (from aiohttp<3.7.0,>=3.6.0->discord.py) (1.5.1)\n",
            "Requirement already satisfied: idna-ssl>=1.0; python_version < \"3.7\" in /usr/local/lib/python3.6/dist-packages (from aiohttp<3.7.0,>=3.6.0->discord.py) (1.1.0)\n",
            "Requirement already satisfied: chardet<4.0,>=2.0 in /usr/local/lib/python3.6/dist-packages (from aiohttp<3.7.0,>=3.6.0->discord.py) (3.0.4)\n",
            "Requirement already satisfied: typing-extensions>=3.6.5; python_version < \"3.7\" in /usr/local/lib/python3.6/dist-packages (from aiohttp<3.7.0,>=3.6.0->discord.py) (3.7.4.3)\n",
            "Requirement already satisfied: async-timeout<4.0,>=3.0 in /usr/local/lib/python3.6/dist-packages (from aiohttp<3.7.0,>=3.6.0->discord.py) (3.0.1)\n",
            "Requirement already satisfied: multidict<5.0,>=4.5 in /usr/local/lib/python3.6/dist-packages (from aiohttp<3.7.0,>=3.6.0->discord.py) (4.7.6)\n",
            "Requirement already satisfied: attrs>=17.3.0 in /usr/local/lib/python3.6/dist-packages (from aiohttp<3.7.0,>=3.6.0->discord.py) (20.1.0)\n",
            "Requirement already satisfied: idna>=2.0 in /usr/local/lib/python3.6/dist-packages (from yarl<2.0,>=1.0->aiohttp<3.7.0,>=3.6.0->discord.py) (2.10)\n"
          ],
          "name": "stdout"
        }
      ]
    },
    {
      "cell_type": "code",
      "metadata": {
        "id": "zePWmBYB45kt",
        "colab_type": "code",
        "colab": {
          "base_uri": "https://localhost:8080/",
          "height": 34
        },
        "outputId": "d53dc05e-0a31-4a24-8481-2b7a5328f691"
      },
      "source": [
        "pip install nest_asyncio"
      ],
      "execution_count": 3,
      "outputs": [
        {
          "output_type": "stream",
          "text": [
            "Requirement already satisfied: nest_asyncio in /usr/local/lib/python3.6/dist-packages (1.4.0)\n"
          ],
          "name": "stdout"
        }
      ]
    },
    {
      "cell_type": "code",
      "metadata": {
        "id": "MAfxkECZ49Ns",
        "colab_type": "code",
        "colab": {}
      },
      "source": [
        "import nest_asyncio\n",
        "nest_asyncio.apply()"
      ],
      "execution_count": 4,
      "outputs": []
    },
    {
      "cell_type": "code",
      "metadata": {
        "id": "p1kcSNiaC33j",
        "colab_type": "code",
        "colab": {}
      },
      "source": [
        "import discord\n",
        "import os"
      ],
      "execution_count": 5,
      "outputs": []
    },
    {
      "cell_type": "code",
      "metadata": {
        "id": "9R6bfQ0E49xR",
        "colab_type": "code",
        "colab": {}
      },
      "source": [
        "class bruh(discord.Client):\n",
        "\n",
        "  async def on_message(self, message):\n",
        "\n",
        "    if os.path.isfile(\"bruh_moments.txt\"):\n",
        "      with open(\"bruh_moments.txt\", \"r\") as f:\n",
        "        bruh_moments = int(f.read())\n",
        "    else:\n",
        "      bruh_moments = 0\n",
        "    \n",
        "    if \"bruh moment\" in message.content.lower() and message.author.id != 735086679563698306:\n",
        "\n",
        "      bruh_moments += 1\n",
        "      await message.channel.send(f\"This server has had **{bruh_moments}** bruh moments\")\n",
        "\n",
        "      with open(\"bruh_moments.txt\", \"w\") as f:\n",
        "        f.write(str(bruh_moments))\n",
        "\n",
        "client = bruh()\n",
        "client.run(\"NzM1MDg2Njc5NTYzNjk4MzA2.XxbI0Q.n6wqkfwPUVozLxNnTrppPwuBpTI\")"
      ],
      "execution_count": null,
      "outputs": []
    },
    {
      "cell_type": "code",
      "metadata": {
        "id": "1qK73SMoKMiA",
        "colab_type": "code",
        "colab": {}
      },
      "source": [
        ""
      ],
      "execution_count": 5,
      "outputs": []
    }
  ]
}