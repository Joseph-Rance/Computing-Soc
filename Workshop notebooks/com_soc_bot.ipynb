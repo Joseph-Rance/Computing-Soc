{
  "nbformat": 4,
  "nbformat_minor": 0,
  "metadata": {
    "colab": {
      "name": "com soc bot.ipynb",
      "provenance": [],
      "collapsed_sections": []
    },
    "kernelspec": {
      "name": "python3",
      "display_name": "Python 3"
    }
  },
  "cells": [
    {
      "cell_type": "markdown",
      "metadata": {
        "id": "aFEMrtAyAN76",
        "colab_type": "text"
      },
      "source": [
        "https://www.youtube.com/watch?v=nW8c7vT6Hl4\n",
        "\n",
        "https://discordpy.readthedocs.io/en/latest/discord.html"
      ]
    },
    {
      "cell_type": "code",
      "metadata": {
        "id": "sij_DGSBAJrz",
        "colab_type": "code",
        "colab": {
          "base_uri": "https://localhost:8080/",
          "height": 545
        },
        "outputId": "f9974f0e-28d6-4e6f-9673-ab4b24c9e671"
      },
      "source": [
        "pip install discord.py"
      ],
      "execution_count": null,
      "outputs": [
        {
          "output_type": "stream",
          "text": [
            "Collecting discord.py\n",
            "\u001b[?25l  Downloading https://files.pythonhosted.org/packages/e9/d4/1b6e6ed08d9cfb6b31ae6eae7cbb57373c153e9f1a7037b369579dccb0b2/discord.py-1.3.4-py3-none-any.whl (676kB)\n",
            "\u001b[K     |████████████████████████████████| 686kB 2.6MB/s \n",
            "\u001b[?25hCollecting websockets!=7.0,!=8.0,!=8.0.1,<9.0,>=6.0\n",
            "\u001b[?25l  Downloading https://files.pythonhosted.org/packages/bb/d9/856af84843912e2853b1b6e898ac8b802989fcf9ecf8e8445a1da263bf3b/websockets-8.1-cp36-cp36m-manylinux2010_x86_64.whl (78kB)\n",
            "\u001b[K     |████████████████████████████████| 81kB 6.9MB/s \n",
            "\u001b[?25hCollecting aiohttp<3.7.0,>=3.6.0\n",
            "\u001b[?25l  Downloading https://files.pythonhosted.org/packages/7c/39/7eb5f98d24904e0f6d3edb505d4aa60e3ef83c0a58d6fe18244a51757247/aiohttp-3.6.2-cp36-cp36m-manylinux1_x86_64.whl (1.2MB)\n",
            "\u001b[K     |████████████████████████████████| 1.2MB 12.8MB/s \n",
            "\u001b[?25hRequirement already satisfied: chardet<4.0,>=2.0 in /usr/local/lib/python3.6/dist-packages (from aiohttp<3.7.0,>=3.6.0->discord.py) (3.0.4)\n",
            "Collecting yarl<2.0,>=1.0\n",
            "\u001b[?25l  Downloading https://files.pythonhosted.org/packages/95/8f/0209fc5d975f839344c33c822ff2f7ef80f6b1e984673a5a68f960bfa583/yarl-1.4.2-cp36-cp36m-manylinux1_x86_64.whl (252kB)\n",
            "\u001b[K     |████████████████████████████████| 256kB 19.6MB/s \n",
            "\u001b[?25hCollecting multidict<5.0,>=4.5\n",
            "\u001b[?25l  Downloading https://files.pythonhosted.org/packages/1a/95/f50352b5366e7d579e8b99631680a9e32e1b22adfa1629a8f23b1d22d5e2/multidict-4.7.6-cp36-cp36m-manylinux1_x86_64.whl (148kB)\n",
            "\u001b[K     |████████████████████████████████| 153kB 21.1MB/s \n",
            "\u001b[?25hRequirement already satisfied: attrs>=17.3.0 in /usr/local/lib/python3.6/dist-packages (from aiohttp<3.7.0,>=3.6.0->discord.py) (19.3.0)\n",
            "Collecting idna-ssl>=1.0; python_version < \"3.7\"\n",
            "  Downloading https://files.pythonhosted.org/packages/46/03/07c4894aae38b0de52b52586b24bf189bb83e4ddabfe2e2c8f2419eec6f4/idna-ssl-1.1.0.tar.gz\n",
            "Collecting async-timeout<4.0,>=3.0\n",
            "  Downloading https://files.pythonhosted.org/packages/e1/1e/5a4441be21b0726c4464f3f23c8b19628372f606755a9d2e46c187e65ec4/async_timeout-3.0.1-py3-none-any.whl\n",
            "Requirement already satisfied: typing-extensions>=3.6.5; python_version < \"3.7\" in /usr/local/lib/python3.6/dist-packages (from aiohttp<3.7.0,>=3.6.0->discord.py) (3.7.4.2)\n",
            "Requirement already satisfied: idna>=2.0 in /usr/local/lib/python3.6/dist-packages (from yarl<2.0,>=1.0->aiohttp<3.7.0,>=3.6.0->discord.py) (2.10)\n",
            "Building wheels for collected packages: idna-ssl\n",
            "  Building wheel for idna-ssl (setup.py) ... \u001b[?25l\u001b[?25hdone\n",
            "  Created wheel for idna-ssl: filename=idna_ssl-1.1.0-cp36-none-any.whl size=3162 sha256=ba5ac4e0085084034f9ae59d9e395a12320979aa1d9975ae75374c4b24729c1e\n",
            "  Stored in directory: /root/.cache/pip/wheels/d3/00/b3/32d613e19e08a739751dd6bf998cfed277728f8b2127ad4eb7\n",
            "Successfully built idna-ssl\n",
            "Installing collected packages: websockets, multidict, yarl, idna-ssl, async-timeout, aiohttp, discord.py\n",
            "Successfully installed aiohttp-3.6.2 async-timeout-3.0.1 discord.py-1.3.4 idna-ssl-1.1.0 multidict-4.7.6 websockets-8.1 yarl-1.4.2\n"
          ],
          "name": "stdout"
        }
      ]
    },
    {
      "cell_type": "code",
      "metadata": {
        "id": "RR9LmXYUCG5-",
        "colab_type": "code",
        "colab": {}
      },
      "source": [
        "import discord\n",
        "from discord.ext import commands"
      ],
      "execution_count": null,
      "outputs": []
    },
    {
      "cell_type": "code",
      "metadata": {
        "id": "edoLl6ptCRWu",
        "colab_type": "code",
        "colab": {}
      },
      "source": [
        "prefix = \".\"\n",
        "\n",
        "client = commands.Bot(command_prefix=prefix)"
      ],
      "execution_count": null,
      "outputs": []
    },
    {
      "cell_type": "code",
      "metadata": {
        "id": "A0q5kWBmCnay",
        "colab_type": "code",
        "colab": {}
      },
      "source": [
        "@client.event\n",
        "async def on_ready():\n",
        "  print(\"WORKING\")"
      ],
      "execution_count": null,
      "outputs": []
    },
    {
      "cell_type": "code",
      "metadata": {
        "id": "3DvEDPP4DTRh",
        "colab_type": "code",
        "colab": {
          "base_uri": "https://localhost:8080/",
          "height": 314
        },
        "outputId": "105f98e7-0d4a-4d17-8e02-d7ba19075897"
      },
      "source": [
        "client.run(\"NzM1MTM1NTM3NjA1OTAyMzk4.Xxb2Zw.r86OskRvbMEIDDhl7rjTy3Reov8\")  # run and link to bot token"
      ],
      "execution_count": null,
      "outputs": [
        {
          "output_type": "error",
          "ename": "RuntimeError",
          "evalue": "ignored",
          "traceback": [
            "\u001b[0;31m---------------------------------------------------------------------------\u001b[0m",
            "\u001b[0;31mRuntimeError\u001b[0m                              Traceback (most recent call last)",
            "\u001b[0;32m<ipython-input-6-c7a56925d9e4>\u001b[0m in \u001b[0;36m<module>\u001b[0;34m()\u001b[0m\n\u001b[0;32m----> 1\u001b[0;31m \u001b[0mclient\u001b[0m\u001b[0;34m.\u001b[0m\u001b[0mrun\u001b[0m\u001b[0;34m(\u001b[0m\u001b[0;34m\"NzM1MTM1NTM3NjA1OTAyMzk4.Xxb2Zw.r86OskRvbMEIDDhl7rjTy3Reov8\"\u001b[0m\u001b[0;34m)\u001b[0m  \u001b[0;31m# run and link to bot token\u001b[0m\u001b[0;34m\u001b[0m\u001b[0;34m\u001b[0m\u001b[0m\n\u001b[0m",
            "\u001b[0;32m/usr/local/lib/python3.6/dist-packages/discord/client.py\u001b[0m in \u001b[0;36mrun\u001b[0;34m(self, *args, **kwargs)\u001b[0m\n\u001b[1;32m    612\u001b[0m \u001b[0;34m\u001b[0m\u001b[0m\n\u001b[1;32m    613\u001b[0m         \u001b[0;32mtry\u001b[0m\u001b[0;34m:\u001b[0m\u001b[0;34m\u001b[0m\u001b[0;34m\u001b[0m\u001b[0m\n\u001b[0;32m--> 614\u001b[0;31m             \u001b[0mloop\u001b[0m\u001b[0;34m.\u001b[0m\u001b[0madd_signal_handler\u001b[0m\u001b[0;34m(\u001b[0m\u001b[0msignal\u001b[0m\u001b[0;34m.\u001b[0m\u001b[0mSIGINT\u001b[0m\u001b[0;34m,\u001b[0m \u001b[0;32mlambda\u001b[0m\u001b[0;34m:\u001b[0m \u001b[0mloop\u001b[0m\u001b[0;34m.\u001b[0m\u001b[0mstop\u001b[0m\u001b[0;34m(\u001b[0m\u001b[0;34m)\u001b[0m\u001b[0;34m)\u001b[0m\u001b[0;34m\u001b[0m\u001b[0;34m\u001b[0m\u001b[0m\n\u001b[0m\u001b[1;32m    615\u001b[0m             \u001b[0mloop\u001b[0m\u001b[0;34m.\u001b[0m\u001b[0madd_signal_handler\u001b[0m\u001b[0;34m(\u001b[0m\u001b[0msignal\u001b[0m\u001b[0;34m.\u001b[0m\u001b[0mSIGTERM\u001b[0m\u001b[0;34m,\u001b[0m \u001b[0;32mlambda\u001b[0m\u001b[0;34m:\u001b[0m \u001b[0mloop\u001b[0m\u001b[0;34m.\u001b[0m\u001b[0mstop\u001b[0m\u001b[0;34m(\u001b[0m\u001b[0;34m)\u001b[0m\u001b[0;34m)\u001b[0m\u001b[0;34m\u001b[0m\u001b[0;34m\u001b[0m\u001b[0m\n\u001b[1;32m    616\u001b[0m         \u001b[0;32mexcept\u001b[0m \u001b[0mNotImplementedError\u001b[0m\u001b[0;34m:\u001b[0m\u001b[0;34m\u001b[0m\u001b[0;34m\u001b[0m\u001b[0m\n",
            "\u001b[0;32m/usr/lib/python3.6/asyncio/unix_events.py\u001b[0m in \u001b[0;36madd_signal_handler\u001b[0;34m(self, sig, callback, *args)\u001b[0m\n\u001b[1;32m     92\u001b[0m                             \"with add_signal_handler()\")\n\u001b[1;32m     93\u001b[0m         \u001b[0mself\u001b[0m\u001b[0;34m.\u001b[0m\u001b[0m_check_signal\u001b[0m\u001b[0;34m(\u001b[0m\u001b[0msig\u001b[0m\u001b[0;34m)\u001b[0m\u001b[0;34m\u001b[0m\u001b[0;34m\u001b[0m\u001b[0m\n\u001b[0;32m---> 94\u001b[0;31m         \u001b[0mself\u001b[0m\u001b[0;34m.\u001b[0m\u001b[0m_check_closed\u001b[0m\u001b[0;34m(\u001b[0m\u001b[0;34m)\u001b[0m\u001b[0;34m\u001b[0m\u001b[0;34m\u001b[0m\u001b[0m\n\u001b[0m\u001b[1;32m     95\u001b[0m         \u001b[0;32mtry\u001b[0m\u001b[0;34m:\u001b[0m\u001b[0;34m\u001b[0m\u001b[0;34m\u001b[0m\u001b[0m\n\u001b[1;32m     96\u001b[0m             \u001b[0;31m# set_wakeup_fd() raises ValueError if this is not the\u001b[0m\u001b[0;34m\u001b[0m\u001b[0;34m\u001b[0m\u001b[0;34m\u001b[0m\u001b[0m\n",
            "\u001b[0;32m/usr/lib/python3.6/asyncio/base_events.py\u001b[0m in \u001b[0;36m_check_closed\u001b[0;34m(self)\u001b[0m\n\u001b[1;32m    375\u001b[0m     \u001b[0;32mdef\u001b[0m \u001b[0m_check_closed\u001b[0m\u001b[0;34m(\u001b[0m\u001b[0mself\u001b[0m\u001b[0;34m)\u001b[0m\u001b[0;34m:\u001b[0m\u001b[0;34m\u001b[0m\u001b[0;34m\u001b[0m\u001b[0m\n\u001b[1;32m    376\u001b[0m         \u001b[0;32mif\u001b[0m \u001b[0mself\u001b[0m\u001b[0;34m.\u001b[0m\u001b[0m_closed\u001b[0m\u001b[0;34m:\u001b[0m\u001b[0;34m\u001b[0m\u001b[0;34m\u001b[0m\u001b[0m\n\u001b[0;32m--> 377\u001b[0;31m             \u001b[0;32mraise\u001b[0m \u001b[0mRuntimeError\u001b[0m\u001b[0;34m(\u001b[0m\u001b[0;34m'Event loop is closed'\u001b[0m\u001b[0;34m)\u001b[0m\u001b[0;34m\u001b[0m\u001b[0;34m\u001b[0m\u001b[0m\n\u001b[0m\u001b[1;32m    378\u001b[0m \u001b[0;34m\u001b[0m\u001b[0m\n\u001b[1;32m    379\u001b[0m     \u001b[0;32mdef\u001b[0m \u001b[0m_asyncgen_finalizer_hook\u001b[0m\u001b[0;34m(\u001b[0m\u001b[0mself\u001b[0m\u001b[0;34m,\u001b[0m \u001b[0magen\u001b[0m\u001b[0;34m)\u001b[0m\u001b[0;34m:\u001b[0m\u001b[0;34m\u001b[0m\u001b[0;34m\u001b[0m\u001b[0m\n",
            "\u001b[0;31mRuntimeError\u001b[0m: Event loop is closed"
          ]
        }
      ]
    },
    {
      "cell_type": "markdown",
      "metadata": {
        "id": "SK46Dw7lENin",
        "colab_type": "text"
      },
      "source": [
        "# decorators"
      ]
    },
    {
      "cell_type": "code",
      "metadata": {
        "id": "eRFohJcDD3uM",
        "colab_type": "code",
        "colab": {}
      },
      "source": [
        "def decorator(function):\n",
        "  def wrapper():\n",
        "    print(\"A\")\n",
        "    function()\n",
        "    print(\"B\")\n",
        "  return wrapper"
      ],
      "execution_count": null,
      "outputs": []
    },
    {
      "cell_type": "code",
      "metadata": {
        "id": "IRrAoWDUE1DC",
        "colab_type": "code",
        "colab": {}
      },
      "source": [
        "def say_fact():\n",
        "  print(\"Dylan has a tiny head\")"
      ],
      "execution_count": null,
      "outputs": []
    },
    {
      "cell_type": "code",
      "metadata": {
        "id": "1slq0h92EoFB",
        "colab_type": "code",
        "colab": {}
      },
      "source": [
        "a = decorator(say_fact)"
      ],
      "execution_count": null,
      "outputs": []
    },
    {
      "cell_type": "code",
      "metadata": {
        "id": "N-oeUYrMEuwT",
        "colab_type": "code",
        "colab": {}
      },
      "source": [
        "a()"
      ],
      "execution_count": null,
      "outputs": []
    },
    {
      "cell_type": "code",
      "metadata": {
        "id": "7n61UVYeEZeO",
        "colab_type": "code",
        "colab": {}
      },
      "source": [
        "@decorator\n",
        "def say_fact():\n",
        "  print(\"Dylan has a tiny head\")"
      ],
      "execution_count": null,
      "outputs": []
    },
    {
      "cell_type": "code",
      "metadata": {
        "id": "8J99UaYYEmkJ",
        "colab_type": "code",
        "colab": {
          "base_uri": "https://localhost:8080/",
          "height": 70
        },
        "outputId": "aaac6778-e3e3-472f-b2d1-44afba71f6fb"
      },
      "source": [
        "say_fact()"
      ],
      "execution_count": null,
      "outputs": [
        {
          "output_type": "stream",
          "text": [
            "A\n",
            "Dylan has a tiny head\n",
            "B\n"
          ],
          "name": "stdout"
        }
      ]
    },
    {
      "cell_type": "markdown",
      "metadata": {
        "id": "Z6qNIEw-GNyQ",
        "colab_type": "text"
      },
      "source": [
        "# generators"
      ]
    },
    {
      "cell_type": "code",
      "metadata": {
        "id": "nC-NWE2WGXij",
        "colab_type": "code",
        "colab": {}
      },
      "source": [
        "def count():\n",
        "  for i in range(50):\n",
        "    return i"
      ],
      "execution_count": null,
      "outputs": []
    },
    {
      "cell_type": "code",
      "metadata": {
        "id": "N-hwJGTgGZsZ",
        "colab_type": "code",
        "colab": {
          "base_uri": "https://localhost:8080/",
          "height": 34
        },
        "outputId": "09dcbdbe-0398-4940-9168-77270c597886"
      },
      "source": [
        "print(count())"
      ],
      "execution_count": null,
      "outputs": [
        {
          "output_type": "stream",
          "text": [
            "0\n"
          ],
          "name": "stdout"
        }
      ]
    },
    {
      "cell_type": "code",
      "metadata": {
        "id": "0q-uYpS9GRb9",
        "colab_type": "code",
        "colab": {}
      },
      "source": [
        "def count():\n",
        "  for i in range(50):\n",
        "    yield i"
      ],
      "execution_count": null,
      "outputs": []
    },
    {
      "cell_type": "code",
      "metadata": {
        "id": "YT26jFDbGcTI",
        "colab_type": "code",
        "colab": {
          "base_uri": "https://localhost:8080/",
          "height": 34
        },
        "outputId": "2687423b-83cd-42b6-b7c2-d02e36c9c643"
      },
      "source": [
        "print(count())"
      ],
      "execution_count": null,
      "outputs": [
        {
          "output_type": "stream",
          "text": [
            "<generator object count at 0x7f98c4661e60>\n"
          ],
          "name": "stdout"
        }
      ]
    },
    {
      "cell_type": "code",
      "metadata": {
        "id": "1JANg8woGqHe",
        "colab_type": "code",
        "colab": {}
      },
      "source": [
        "a = count()"
      ],
      "execution_count": null,
      "outputs": []
    },
    {
      "cell_type": "code",
      "metadata": {
        "id": "9T4ednl6GmFS",
        "colab_type": "code",
        "colab": {
          "base_uri": "https://localhost:8080/",
          "height": 34
        },
        "outputId": "b06fd767-2ca9-4bd1-8e49-ed19055bf7a4"
      },
      "source": [
        "next(a)"
      ],
      "execution_count": null,
      "outputs": [
        {
          "output_type": "execute_result",
          "data": {
            "text/plain": [
              "3"
            ]
          },
          "metadata": {
            "tags": []
          },
          "execution_count": 34
        }
      ]
    },
    {
      "cell_type": "code",
      "metadata": {
        "id": "T45JkQOYG17K",
        "colab_type": "code",
        "colab": {}
      },
      "source": [
        "def finder(x):\n",
        "  while True:\n",
        "    input = yield\n",
        "    if x in input:\n",
        "      print(input)"
      ],
      "execution_count": null,
      "outputs": []
    },
    {
      "cell_type": "code",
      "metadata": {
        "id": "QfwUTxKuG8kJ",
        "colab_type": "code",
        "colab": {}
      },
      "source": [
        "a = finder(\"python\")"
      ],
      "execution_count": null,
      "outputs": []
    },
    {
      "cell_type": "code",
      "metadata": {
        "id": "7SbOe_FMG_Gs",
        "colab_type": "code",
        "colab": {
          "base_uri": "https://localhost:8080/",
          "height": 34
        },
        "outputId": "37e7304d-49a7-491d-a0fb-cddd4e461b9f"
      },
      "source": [
        "a"
      ],
      "execution_count": null,
      "outputs": [
        {
          "output_type": "execute_result",
          "data": {
            "text/plain": [
              "<generator object finder at 0x7f98c45fbca8>"
            ]
          },
          "metadata": {
            "tags": []
          },
          "execution_count": 38
        }
      ]
    },
    {
      "cell_type": "code",
      "metadata": {
        "id": "HlZkvGoRHA7p",
        "colab_type": "code",
        "colab": {
          "base_uri": "https://localhost:8080/",
          "height": 167
        },
        "outputId": "ac96a1f6-6423-4b56-b4d6-2c7d9b5e43ff"
      },
      "source": [
        "a.send(\"this contains the word python\")  # Fails becuase we never started the generator"
      ],
      "execution_count": null,
      "outputs": [
        {
          "output_type": "error",
          "ename": "TypeError",
          "evalue": "ignored",
          "traceback": [
            "\u001b[0;31m---------------------------------------------------------------------------\u001b[0m",
            "\u001b[0;31mTypeError\u001b[0m                                 Traceback (most recent call last)",
            "\u001b[0;32m<ipython-input-39-f95676f47b25>\u001b[0m in \u001b[0;36m<module>\u001b[0;34m()\u001b[0m\n\u001b[0;32m----> 1\u001b[0;31m \u001b[0ma\u001b[0m\u001b[0;34m.\u001b[0m\u001b[0msend\u001b[0m\u001b[0;34m(\u001b[0m\u001b[0;34m\"this contains the word python\"\u001b[0m\u001b[0;34m)\u001b[0m  \u001b[0;31m# Fails becuase we never started the generator\u001b[0m\u001b[0;34m\u001b[0m\u001b[0;34m\u001b[0m\u001b[0m\n\u001b[0m",
            "\u001b[0;31mTypeError\u001b[0m: can't send non-None value to a just-started generator"
          ]
        }
      ]
    },
    {
      "cell_type": "code",
      "metadata": {
        "id": "Y_aSbwS5HLf-",
        "colab_type": "code",
        "colab": {}
      },
      "source": [
        "next(a)  # start the gernerator"
      ],
      "execution_count": null,
      "outputs": []
    },
    {
      "cell_type": "code",
      "metadata": {
        "id": "RBnaMeJSHQMf",
        "colab_type": "code",
        "colab": {
          "base_uri": "https://localhost:8080/",
          "height": 34
        },
        "outputId": "db3df7f9-6157-4b84-b3b4-e01a724dd043"
      },
      "source": [
        "a.send(\"this contains the word python\")"
      ],
      "execution_count": null,
      "outputs": [
        {
          "output_type": "stream",
          "text": [
            "this contains the word python\n"
          ],
          "name": "stdout"
        }
      ]
    },
    {
      "cell_type": "code",
      "metadata": {
        "id": "5-dK8QskHU17",
        "colab_type": "code",
        "colab": {}
      },
      "source": [
        "a.send(\"this does not contain that word\")"
      ],
      "execution_count": null,
      "outputs": []
    },
    {
      "cell_type": "code",
      "metadata": {
        "id": "6ZMR1uIlxNK1",
        "colab_type": "code",
        "colab": {}
      },
      "source": [
        "def squares():\n",
        "  for i in range(50):\n",
        "    yield i**2"
      ],
      "execution_count": null,
      "outputs": []
    },
    {
      "cell_type": "code",
      "metadata": {
        "id": "isZMUH_4HeDl",
        "colab_type": "code",
        "colab": {
          "base_uri": "https://localhost:8080/",
          "height": 54
        },
        "outputId": "6f765459-db4c-4dc7-9cce-949e4de14429"
      },
      "source": [
        "for i in squares():\n",
        "  print(i, end=\" \")"
      ],
      "execution_count": null,
      "outputs": [
        {
          "output_type": "stream",
          "text": [
            "0 1 4 9 16 25 36 49 64 81 100 121 144 169 196 225 256 289 324 361 400 441 484 529 576 625 676 729 784 841 900 961 1024 1089 1156 1225 1296 1369 1444 1521 1600 1681 1764 1849 1936 2025 2116 2209 2304 2401 "
          ],
          "name": "stdout"
        }
      ]
    },
    {
      "cell_type": "markdown",
      "metadata": {
        "id": "tes0eDZuGEkZ",
        "colab_type": "text"
      },
      "source": [
        "# async"
      ]
    },
    {
      "cell_type": "code",
      "metadata": {
        "id": "LKic2DKGEvk8",
        "colab_type": "code",
        "colab": {}
      },
      "source": [
        "import asyncio"
      ],
      "execution_count": null,
      "outputs": []
    },
    {
      "cell_type": "code",
      "metadata": {
        "id": "tQGI9OIOGKHe",
        "colab_type": "code",
        "colab": {}
      },
      "source": [
        "def greet1(name):\n",
        "  return \"hello \" + name"
      ],
      "execution_count": null,
      "outputs": []
    },
    {
      "cell_type": "code",
      "metadata": {
        "id": "6pUdV2KJH0m4",
        "colab_type": "code",
        "colab": {}
      },
      "source": [
        "async def greet2(name):\n",
        "  return \"hello \" + name"
      ],
      "execution_count": null,
      "outputs": []
    },
    {
      "cell_type": "code",
      "metadata": {
        "id": "aEg2crAuH8cK",
        "colab_type": "code",
        "colab": {}
      },
      "source": [
        "name = \"Dylan Boils\""
      ],
      "execution_count": null,
      "outputs": []
    },
    {
      "cell_type": "code",
      "metadata": {
        "id": "odvxR40rH5J8",
        "colab_type": "code",
        "colab": {
          "base_uri": "https://localhost:8080/",
          "height": 35
        },
        "outputId": "1c118f53-31cd-40ae-89eb-7bdc39523d3c"
      },
      "source": [
        "greet1(name)"
      ],
      "execution_count": null,
      "outputs": [
        {
          "output_type": "execute_result",
          "data": {
            "application/vnd.google.colaboratory.intrinsic": {
              "type": "string"
            },
            "text/plain": [
              "'hello Dylan Boils'"
            ]
          },
          "metadata": {
            "tags": []
          },
          "execution_count": 51
        }
      ]
    },
    {
      "cell_type": "code",
      "metadata": {
        "id": "La6IjoA4IDJl",
        "colab_type": "code",
        "colab": {
          "base_uri": "https://localhost:8080/",
          "height": 34
        },
        "outputId": "4477ec2d-82f7-48af-d082-33108a095c5e"
      },
      "source": [
        "greet2(name)  # this acts a bit like an iterator"
      ],
      "execution_count": null,
      "outputs": [
        {
          "output_type": "execute_result",
          "data": {
            "text/plain": [
              "<coroutine object greet2 at 0x7f98c46ac728>"
            ]
          },
          "metadata": {
            "tags": []
          },
          "execution_count": 52
        }
      ]
    },
    {
      "cell_type": "code",
      "metadata": {
        "id": "xiivF96GIELk",
        "colab_type": "code",
        "colab": {}
      },
      "source": [
        "g = greet2(name)"
      ],
      "execution_count": null,
      "outputs": []
    },
    {
      "cell_type": "code",
      "metadata": {
        "id": "sDFTLhVhIK6W",
        "colab_type": "code",
        "colab": {
          "base_uri": "https://localhost:8080/",
          "height": 167
        },
        "outputId": "6677b675-2154-43fa-ba49-e7fa65287e17"
      },
      "source": [
        "g.send(None)  # returns the correct thing but in an exception???"
      ],
      "execution_count": null,
      "outputs": [
        {
          "output_type": "error",
          "ename": "StopIteration",
          "evalue": "ignored",
          "traceback": [
            "\u001b[0;31m---------------------------------------------------------------------------\u001b[0m",
            "\u001b[0;31mStopIteration\u001b[0m                             Traceback (most recent call last)",
            "\u001b[0;32m<ipython-input-55-b51755641f05>\u001b[0m in \u001b[0;36m<module>\u001b[0;34m()\u001b[0m\n\u001b[0;32m----> 1\u001b[0;31m \u001b[0mg\u001b[0m\u001b[0;34m.\u001b[0m\u001b[0msend\u001b[0m\u001b[0;34m(\u001b[0m\u001b[0;32mNone\u001b[0m\u001b[0;34m)\u001b[0m  \u001b[0;31m# returns the correct thing but in an exception???\u001b[0m\u001b[0;34m\u001b[0m\u001b[0;34m\u001b[0m\u001b[0m\n\u001b[0m",
            "\u001b[0;31mStopIteration\u001b[0m: hello Dylan Boils"
          ]
        }
      ]
    },
    {
      "cell_type": "code",
      "metadata": {
        "id": "BO7YiDYCIM6A",
        "colab_type": "code",
        "colab": {
          "base_uri": "https://localhost:8080/",
          "height": 34
        },
        "outputId": "2b320339-7af1-41f4-d742-d185ee8bdf69"
      },
      "source": [
        "try:\n",
        "  greet2(name).send(None)\n",
        "except StopIteration as exc:\n",
        "  print(exc.value)"
      ],
      "execution_count": null,
      "outputs": [
        {
          "output_type": "stream",
          "text": [
            "hello Dylan Boils\n"
          ],
          "name": "stdout"
        }
      ]
    },
    {
      "cell_type": "code",
      "metadata": {
        "id": "xeECs3orI2Y5",
        "colab_type": "code",
        "colab": {}
      },
      "source": [
        "async def greet3(name):\n",
        "  return (await greet2(name))  # need to use await keyword"
      ],
      "execution_count": null,
      "outputs": []
    },
    {
      "cell_type": "code",
      "metadata": {
        "id": "WKg1BkaEJDFo",
        "colab_type": "code",
        "colab": {
          "base_uri": "https://localhost:8080/",
          "height": 34
        },
        "outputId": "572da391-1ac7-43e8-ec85-4cdb00b7839b"
      },
      "source": [
        "try:\n",
        "  greet3(name).send(None)\n",
        "except StopIteration as exc:\n",
        "  print(exc.value)"
      ],
      "execution_count": null,
      "outputs": [
        {
          "output_type": "stream",
          "text": [
            "hello Dylan Boils\n"
          ],
          "name": "stdout"
        }
      ]
    },
    {
      "cell_type": "markdown",
      "metadata": {
        "id": "y4U_uz-PJoSW",
        "colab_type": "text"
      },
      "source": [
        "why? becuase we can run multiple functions at once if they are async. Over the past half hour I've built up a harted for async, though, so we're gonna move on\n",
        "\n",
        "Edit: I notices that the demonstration I had for this wasnt working becuase im not closing loops or something but i cba to fix it so there u go. might need to restart runtime if it errors in some places"
      ]
    },
    {
      "cell_type": "markdown",
      "metadata": {
        "id": "XKrsIP-sL-Yz",
        "colab_type": "text"
      },
      "source": [
        "# Replying to messages"
      ]
    },
    {
      "cell_type": "markdown",
      "metadata": {
        "id": "FUYdQzDCMNS2",
        "colab_type": "text"
      },
      "source": [
        "quick look back at the previous function:"
      ]
    },
    {
      "cell_type": "code",
      "metadata": {
        "id": "DvaYWcytKLdG",
        "colab_type": "code",
        "colab": {}
      },
      "source": [
        "@client.event  # run when something happens\n",
        "async def on_ready():  # only run when the even is \"the bot is ready\"\n",
        "  print(\"WORKING\")  # what we run"
      ],
      "execution_count": null,
      "outputs": []
    },
    {
      "cell_type": "markdown",
      "metadata": {
        "id": "lwMM7_amMldn",
        "colab_type": "text"
      },
      "source": [
        "async allows us to do other thing while we are running this. Discord deals with the horrible ascync stuff though"
      ]
    },
    {
      "cell_type": "code",
      "metadata": {
        "id": "YxeXLzzGMpg7",
        "colab_type": "code",
        "colab": {}
      },
      "source": [
        "prefix = \".\"\n",
        "\n",
        "client = commands.Bot(command_prefix=prefix)"
      ],
      "execution_count": null,
      "outputs": []
    },
    {
      "cell_type": "code",
      "metadata": {
        "id": "sL4etC8AMrVf",
        "colab_type": "code",
        "colab": {}
      },
      "source": [
        "@client.command()  # will run the function when we get a command sent\n",
        "async def pogs(ctx):  # function name is the command word. ctx -> context\n",
        "  await ctx.send(\"ON FILM\")  # using the await keyword here to allow the bot to reply \"on film\""
      ],
      "execution_count": null,
      "outputs": []
    },
    {
      "cell_type": "code",
      "metadata": {
        "id": "rSW3envPM-dK",
        "colab_type": "code",
        "colab": {
          "base_uri": "https://localhost:8080/",
          "height": 350
        },
        "outputId": "5c2a3700-6116-4431-9825-42c4f2a61cea"
      },
      "source": [
        "client.run(\"NzM1MTM1NTM3NjA1OTAyMzk4.Xxb2Zw.r86OskRvbMEIDDhl7rjTy3Reov8\")"
      ],
      "execution_count": null,
      "outputs": [
        {
          "output_type": "stream",
          "text": [
            "Ignoring exception in command None:\n",
            "discord.ext.commands.errors.CommandNotFound: Command \"pog\" is not found\n"
          ],
          "name": "stderr"
        },
        {
          "output_type": "error",
          "ename": "RuntimeError",
          "evalue": "ignored",
          "traceback": [
            "\u001b[0;31m---------------------------------------------------------------------------\u001b[0m",
            "\u001b[0;31mRuntimeError\u001b[0m                              Traceback (most recent call last)",
            "\u001b[0;32m<ipython-input-4-0f0150030f76>\u001b[0m in \u001b[0;36m<module>\u001b[0;34m()\u001b[0m\n\u001b[0;32m----> 1\u001b[0;31m \u001b[0mclient\u001b[0m\u001b[0;34m.\u001b[0m\u001b[0mrun\u001b[0m\u001b[0;34m(\u001b[0m\u001b[0;34m\"NzM1MTM1NTM3NjA1OTAyMzk4.Xxb2Zw.r86OskRvbMEIDDhl7rjTy3Reov8\"\u001b[0m\u001b[0;34m)\u001b[0m\u001b[0;34m\u001b[0m\u001b[0;34m\u001b[0m\u001b[0m\n\u001b[0m",
            "\u001b[0;32m/usr/local/lib/python3.6/dist-packages/discord/client.py\u001b[0m in \u001b[0;36mrun\u001b[0;34m(self, *args, **kwargs)\u001b[0m\n\u001b[1;32m    635\u001b[0m             \u001b[0mfuture\u001b[0m\u001b[0;34m.\u001b[0m\u001b[0mremove_done_callback\u001b[0m\u001b[0;34m(\u001b[0m\u001b[0mstop_loop_on_completion\u001b[0m\u001b[0;34m)\u001b[0m\u001b[0;34m\u001b[0m\u001b[0;34m\u001b[0m\u001b[0m\n\u001b[1;32m    636\u001b[0m             \u001b[0mlog\u001b[0m\u001b[0;34m.\u001b[0m\u001b[0minfo\u001b[0m\u001b[0;34m(\u001b[0m\u001b[0;34m'Cleaning up tasks.'\u001b[0m\u001b[0;34m)\u001b[0m\u001b[0;34m\u001b[0m\u001b[0;34m\u001b[0m\u001b[0m\n\u001b[0;32m--> 637\u001b[0;31m             \u001b[0m_cleanup_loop\u001b[0m\u001b[0;34m(\u001b[0m\u001b[0mloop\u001b[0m\u001b[0;34m)\u001b[0m\u001b[0;34m\u001b[0m\u001b[0;34m\u001b[0m\u001b[0m\n\u001b[0m\u001b[1;32m    638\u001b[0m \u001b[0;34m\u001b[0m\u001b[0m\n\u001b[1;32m    639\u001b[0m         \u001b[0;32mif\u001b[0m \u001b[0;32mnot\u001b[0m \u001b[0mfuture\u001b[0m\u001b[0;34m.\u001b[0m\u001b[0mcancelled\u001b[0m\u001b[0;34m(\u001b[0m\u001b[0;34m)\u001b[0m\u001b[0;34m:\u001b[0m\u001b[0;34m\u001b[0m\u001b[0;34m\u001b[0m\u001b[0m\n",
            "\u001b[0;32m/usr/local/lib/python3.6/dist-packages/discord/client.py\u001b[0m in \u001b[0;36m_cleanup_loop\u001b[0;34m(loop)\u001b[0m\n\u001b[1;32m     90\u001b[0m \u001b[0;32mdef\u001b[0m \u001b[0m_cleanup_loop\u001b[0m\u001b[0;34m(\u001b[0m\u001b[0mloop\u001b[0m\u001b[0;34m)\u001b[0m\u001b[0;34m:\u001b[0m\u001b[0;34m\u001b[0m\u001b[0;34m\u001b[0m\u001b[0m\n\u001b[1;32m     91\u001b[0m     \u001b[0;32mtry\u001b[0m\u001b[0;34m:\u001b[0m\u001b[0;34m\u001b[0m\u001b[0;34m\u001b[0m\u001b[0m\n\u001b[0;32m---> 92\u001b[0;31m         \u001b[0m_cancel_tasks\u001b[0m\u001b[0;34m(\u001b[0m\u001b[0mloop\u001b[0m\u001b[0;34m)\u001b[0m\u001b[0;34m\u001b[0m\u001b[0;34m\u001b[0m\u001b[0m\n\u001b[0m\u001b[1;32m     93\u001b[0m         \u001b[0;32mif\u001b[0m \u001b[0msys\u001b[0m\u001b[0;34m.\u001b[0m\u001b[0mversion_info\u001b[0m \u001b[0;34m>=\u001b[0m \u001b[0;34m(\u001b[0m\u001b[0;36m3\u001b[0m\u001b[0;34m,\u001b[0m \u001b[0;36m6\u001b[0m\u001b[0;34m)\u001b[0m\u001b[0;34m:\u001b[0m\u001b[0;34m\u001b[0m\u001b[0;34m\u001b[0m\u001b[0m\n\u001b[1;32m     94\u001b[0m             \u001b[0mloop\u001b[0m\u001b[0;34m.\u001b[0m\u001b[0mrun_until_complete\u001b[0m\u001b[0;34m(\u001b[0m\u001b[0mloop\u001b[0m\u001b[0;34m.\u001b[0m\u001b[0mshutdown_asyncgens\u001b[0m\u001b[0;34m(\u001b[0m\u001b[0;34m)\u001b[0m\u001b[0;34m)\u001b[0m\u001b[0;34m\u001b[0m\u001b[0;34m\u001b[0m\u001b[0m\n",
            "\u001b[0;32m/usr/local/lib/python3.6/dist-packages/discord/client.py\u001b[0m in \u001b[0;36m_cancel_tasks\u001b[0;34m(loop)\u001b[0m\n\u001b[1;32m     75\u001b[0m         \u001b[0mtask\u001b[0m\u001b[0;34m.\u001b[0m\u001b[0mcancel\u001b[0m\u001b[0;34m(\u001b[0m\u001b[0;34m)\u001b[0m\u001b[0;34m\u001b[0m\u001b[0;34m\u001b[0m\u001b[0m\n\u001b[1;32m     76\u001b[0m \u001b[0;34m\u001b[0m\u001b[0m\n\u001b[0;32m---> 77\u001b[0;31m     \u001b[0mloop\u001b[0m\u001b[0;34m.\u001b[0m\u001b[0mrun_until_complete\u001b[0m\u001b[0;34m(\u001b[0m\u001b[0masyncio\u001b[0m\u001b[0;34m.\u001b[0m\u001b[0mgather\u001b[0m\u001b[0;34m(\u001b[0m\u001b[0;34m*\u001b[0m\u001b[0mtasks\u001b[0m\u001b[0;34m,\u001b[0m \u001b[0mreturn_exceptions\u001b[0m\u001b[0;34m=\u001b[0m\u001b[0;32mTrue\u001b[0m\u001b[0;34m)\u001b[0m\u001b[0;34m)\u001b[0m\u001b[0;34m\u001b[0m\u001b[0;34m\u001b[0m\u001b[0m\n\u001b[0m\u001b[1;32m     78\u001b[0m     \u001b[0mlog\u001b[0m\u001b[0;34m.\u001b[0m\u001b[0minfo\u001b[0m\u001b[0;34m(\u001b[0m\u001b[0;34m'All tasks finished cancelling.'\u001b[0m\u001b[0;34m)\u001b[0m\u001b[0;34m\u001b[0m\u001b[0;34m\u001b[0m\u001b[0m\n\u001b[1;32m     79\u001b[0m \u001b[0;34m\u001b[0m\u001b[0m\n",
            "\u001b[0;32m/usr/lib/python3.6/asyncio/base_events.py\u001b[0m in \u001b[0;36mrun_until_complete\u001b[0;34m(self, future)\u001b[0m\n\u001b[1;32m    480\u001b[0m             \u001b[0mfuture\u001b[0m\u001b[0;34m.\u001b[0m\u001b[0mremove_done_callback\u001b[0m\u001b[0;34m(\u001b[0m\u001b[0m_run_until_complete_cb\u001b[0m\u001b[0;34m)\u001b[0m\u001b[0;34m\u001b[0m\u001b[0;34m\u001b[0m\u001b[0m\n\u001b[1;32m    481\u001b[0m         \u001b[0;32mif\u001b[0m \u001b[0;32mnot\u001b[0m \u001b[0mfuture\u001b[0m\u001b[0;34m.\u001b[0m\u001b[0mdone\u001b[0m\u001b[0;34m(\u001b[0m\u001b[0;34m)\u001b[0m\u001b[0;34m:\u001b[0m\u001b[0;34m\u001b[0m\u001b[0;34m\u001b[0m\u001b[0m\n\u001b[0;32m--> 482\u001b[0;31m             \u001b[0;32mraise\u001b[0m \u001b[0mRuntimeError\u001b[0m\u001b[0;34m(\u001b[0m\u001b[0;34m'Event loop stopped before Future completed.'\u001b[0m\u001b[0;34m)\u001b[0m\u001b[0;34m\u001b[0m\u001b[0;34m\u001b[0m\u001b[0m\n\u001b[0m\u001b[1;32m    483\u001b[0m \u001b[0;34m\u001b[0m\u001b[0m\n\u001b[1;32m    484\u001b[0m         \u001b[0;32mreturn\u001b[0m \u001b[0mfuture\u001b[0m\u001b[0;34m.\u001b[0m\u001b[0mresult\u001b[0m\u001b[0;34m(\u001b[0m\u001b[0;34m)\u001b[0m\u001b[0;34m\u001b[0m\u001b[0;34m\u001b[0m\u001b[0m\n",
            "\u001b[0;31mRuntimeError\u001b[0m: Event loop stopped before Future completed."
          ]
        }
      ]
    },
    {
      "cell_type": "markdown",
      "metadata": {
        "id": "h8LXTkTKNhDT",
        "colab_type": "text"
      },
      "source": [
        "we wanna write \"pogs\" not \".pogs\" so we can cheat:"
      ]
    },
    {
      "cell_type": "code",
      "metadata": {
        "id": "KmWUMb0INoOI",
        "colab_type": "code",
        "colab": {
          "base_uri": "https://localhost:8080/",
          "height": 474
        },
        "outputId": "9cf1634e-4ecf-403a-beba-58fa40a88002"
      },
      "source": [
        "import discord\n",
        "from discord.ext import commands\n",
        "prefix = \"\"\n",
        "client = commands.Bot(command_prefix=prefix)\n",
        "@client.command()\n",
        "async def pogs(ctx):\n",
        "  await ctx.send(\"ON FILM\")\n",
        "client.run(\"NzM1MDg2Njc5NTYzNjk4MzA2.XxbJ0Q.U41A9mG92MeX-sppsHQMCoxzltY\")"
      ],
      "execution_count": null,
      "outputs": [
        {
          "output_type": "stream",
          "text": [
            "Ignoring exception in command None:\n",
            "discord.ext.commands.errors.CommandNotFound: Command \":]\" is not found\n",
            "Ignoring exception in command None:\n",
            "discord.ext.commands.errors.CommandNotFound: Command \":}\" is not found\n",
            "Ignoring exception in command None:\n",
            "discord.ext.commands.errors.CommandNotFound: Command \"you're\" is not found\n",
            "Ignoring exception in command None:\n",
            "discord.ext.commands.errors.CommandNotFound: Command \"hi\" is not found\n",
            "Ignoring exception in command None:\n",
            "discord.ext.commands.errors.CommandNotFound: Command \"mum\" is not found\n",
            "Ignoring exception in command None:\n",
            "discord.ext.commands.errors.CommandNotFound: Command \"joseph_is_bald\" is not found\n",
            "Ignoring exception in command None:\n",
            "discord.ext.commands.errors.CommandNotFound: Command \"pratyaksh\" is not found\n",
            "Ignoring exception in command None:\n",
            "discord.ext.commands.errors.CommandNotFound: Command \"is\" is not found\n",
            "Ignoring exception in command None:\n",
            "discord.ext.commands.errors.CommandNotFound: Command \"cool\" is not found\n",
            "Ignoring exception in command None:\n",
            "discord.ext.commands.errors.CommandNotFound: Command \"no\" is not found\n",
            "Ignoring exception in command None:\n",
            "discord.ext.commands.errors.CommandNotFound: Command \"pratyaksh\" is not found\n",
            "Ignoring exception in command None:\n",
            "discord.ext.commands.errors.CommandNotFound: Command \"is\" is not found\n",
            "Ignoring exception in command None:\n",
            "discord.ext.commands.errors.CommandNotFound: Command \"cool\" is not found\n"
          ],
          "name": "stderr"
        }
      ]
    },
    {
      "cell_type": "markdown",
      "metadata": {
        "id": "dvQM9OYfSa3d",
        "colab_type": "text"
      },
      "source": [
        "unfortunately this raises an error every time someone writes something starting with p that is not \"pogs\""
      ]
    },
    {
      "cell_type": "markdown",
      "metadata": {
        "id": "m0HyOmkfOOxE",
        "colab_type": "text"
      },
      "source": [
        "![image.png](data:image/png;base64,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)"
      ]
    },
    {
      "cell_type": "code",
      "metadata": {
        "id": "kLmmjI6GNtqL",
        "colab_type": "code",
        "colab": {}
      },
      "source": [
        "import discord\n",
        "from discord.ext import commands\n",
        "prefix = \".\"\n",
        "client = commands.Bot(command_prefix=prefix)\n",
        "@client.command()\n",
        "async def ping(ctx):\n",
        "  await ctx.send(f\"your ping is {round(client.latency * 1000)}ms\")\n",
        "client.run(\"NzM1MDg2Njc5NTYzNjk4MzA2.XxbJ0Q.U41A9mG92MeX-sppsHQMCoxzltY\")"
      ],
      "execution_count": null,
      "outputs": []
    },
    {
      "cell_type": "code",
      "metadata": {
        "id": "O7zSgIbPO8ZC",
        "colab_type": "code",
        "colab": {
          "base_uri": "https://localhost:8080/",
          "height": 650
        },
        "outputId": "82e09201-ac51-4483-dd09-5b304c8d71d3"
      },
      "source": [
        "import discord\n",
        "from discord.ext import commands\n",
        "prefix = \".\"\n",
        "client = commands.Bot(command_prefix=prefix)\n",
        "@client.command(aliases=[\"what_ping\"])\n",
        "async def ping(ctx):\n",
        "  await ctx.send(f\"your ping is {round(client.latency * 1000)}ms\")\n",
        "client.run(\"NzM1MDg2Njc5NTYzNjk4MzA2.XxbJ0Q.U41A9mG92MeX-sppsHQMCoxzltY\")"
      ],
      "execution_count": null,
      "outputs": [
        {
          "output_type": "stream",
          "text": [
            "Ignoring exception in command ping:\n",
            "Traceback (most recent call last):\n",
            "  File \"/usr/local/lib/python3.6/dist-packages/discord/ext/commands/core.py\", line 83, in wrapped\n",
            "    ret = await coro(*args, **kwargs)\n",
            "  File \"<ipython-input-1-ea8e22816111>\", line 7, in ping\n",
            "    await ctx.send(f\"your ping is {round(user.latency * 1000)}ms\")\n",
            "NameError: name 'user' is not defined\n",
            "\n",
            "The above exception was the direct cause of the following exception:\n",
            "\n",
            "Traceback (most recent call last):\n",
            "  File \"/usr/local/lib/python3.6/dist-packages/discord/ext/commands/bot.py\", line 892, in invoke\n",
            "    await ctx.command.invoke(ctx)\n",
            "  File \"/usr/local/lib/python3.6/dist-packages/discord/ext/commands/core.py\", line 797, in invoke\n",
            "    await injected(*ctx.args, **ctx.kwargs)\n",
            "  File \"/usr/local/lib/python3.6/dist-packages/discord/ext/commands/core.py\", line 92, in wrapped\n",
            "    raise CommandInvokeError(exc) from exc\n",
            "discord.ext.commands.errors.CommandInvokeError: Command raised an exception: NameError: name 'user' is not defined\n",
            "Ignoring exception in command ping:\n",
            "Traceback (most recent call last):\n",
            "  File \"/usr/local/lib/python3.6/dist-packages/discord/ext/commands/core.py\", line 83, in wrapped\n",
            "    ret = await coro(*args, **kwargs)\n",
            "  File \"<ipython-input-1-ea8e22816111>\", line 7, in ping\n",
            "    await ctx.send(f\"your ping is {round(user.latency * 1000)}ms\")\n",
            "NameError: name 'user' is not defined\n",
            "\n",
            "The above exception was the direct cause of the following exception:\n",
            "\n",
            "Traceback (most recent call last):\n",
            "  File \"/usr/local/lib/python3.6/dist-packages/discord/ext/commands/bot.py\", line 892, in invoke\n",
            "    await ctx.command.invoke(ctx)\n",
            "  File \"/usr/local/lib/python3.6/dist-packages/discord/ext/commands/core.py\", line 797, in invoke\n",
            "    await injected(*ctx.args, **ctx.kwargs)\n",
            "  File \"/usr/local/lib/python3.6/dist-packages/discord/ext/commands/core.py\", line 92, in wrapped\n",
            "    raise CommandInvokeError(exc) from exc\n",
            "discord.ext.commands.errors.CommandInvokeError: Command raised an exception: NameError: name 'user' is not defined\n"
          ],
          "name": "stderr"
        }
      ]
    },
    {
      "cell_type": "markdown",
      "metadata": {
        "id": "WEGoT5vsP1uV",
        "colab_type": "text"
      },
      "source": [
        "will also show an error if we give an unknown command"
      ]
    },
    {
      "cell_type": "code",
      "metadata": {
        "id": "sa7WYr3SPko2",
        "colab_type": "code",
        "colab": {
          "base_uri": "https://localhost:8080/",
          "height": 510
        },
        "outputId": "01389992-45d1-48c9-ea89-c1a14fbbb8ac"
      },
      "source": [
        "import discord\n",
        "from discord.ext import commands\n",
        "prefix = \".\"\n",
        "client = commands.Bot(command_prefix=prefix)\n",
        "@client.command(aliases=[\"is_he_bad\"])\n",
        "async def ihb(ctx, *, person):\n",
        "  if person == \"joe\":\n",
        "    await ctx.send(\"no\")\n",
        "  else:\n",
        "    await ctx.send(\"yes\")\n",
        "client.run(\"NzM1MDg2Njc5NTYzNjk4MzA2.XxbJ0Q.U41A9mG92MeX-sppsHQMCoxzltY\")"
      ],
      "execution_count": null,
      "outputs": [
        {
          "output_type": "stream",
          "text": [
            "Ignoring exception in command ihb:\n",
            "Traceback (most recent call last):\n",
            "  File \"/usr/local/lib/python3.6/dist-packages/discord/ext/commands/bot.py\", line 892, in invoke\n",
            "    await ctx.command.invoke(ctx)\n",
            "  File \"/usr/local/lib/python3.6/dist-packages/discord/ext/commands/core.py\", line 790, in invoke\n",
            "    await self.prepare(ctx)\n",
            "  File \"/usr/local/lib/python3.6/dist-packages/discord/ext/commands/core.py\", line 751, in prepare\n",
            "    await self._parse_arguments(ctx)\n",
            "  File \"/usr/local/lib/python3.6/dist-packages/discord/ext/commands/core.py\", line 679, in _parse_arguments\n",
            "    kwargs[name] = await self.transform(ctx, param)\n",
            "  File \"/usr/local/lib/python3.6/dist-packages/discord/ext/commands/core.py\", line 516, in transform\n",
            "    raise MissingRequiredArgument(param)\n",
            "discord.ext.commands.errors.MissingRequiredArgument: person is a required argument that is missing.\n",
            "Ignoring exception in command ihb:\n",
            "Traceback (most recent call last):\n",
            "  File \"/usr/local/lib/python3.6/dist-packages/discord/ext/commands/bot.py\", line 892, in invoke\n",
            "    await ctx.command.invoke(ctx)\n",
            "  File \"/usr/local/lib/python3.6/dist-packages/discord/ext/commands/core.py\", line 790, in invoke\n",
            "    await self.prepare(ctx)\n",
            "  File \"/usr/local/lib/python3.6/dist-packages/discord/ext/commands/core.py\", line 751, in prepare\n",
            "    await self._parse_arguments(ctx)\n",
            "  File \"/usr/local/lib/python3.6/dist-packages/discord/ext/commands/core.py\", line 679, in _parse_arguments\n",
            "    kwargs[name] = await self.transform(ctx, param)\n",
            "  File \"/usr/local/lib/python3.6/dist-packages/discord/ext/commands/core.py\", line 516, in transform\n",
            "    raise MissingRequiredArgument(param)\n",
            "discord.ext.commands.errors.MissingRequiredArgument: person is a required argument that is missing.\n",
            "Ignoring exception in command None:\n",
            "discord.ext.commands.errors.CommandNotFound: Command \"ihn\" is not found\n"
          ],
          "name": "stderr"
        }
      ]
    },
    {
      "cell_type": "code",
      "metadata": {
        "id": "zfQ_NXcXQQS4",
        "colab_type": "code",
        "colab": {}
      },
      "source": [
        "import discord\n",
        "from discord.ext import commands\n",
        "prefix = \".\"\n",
        "client = commands.Bot(command_prefix=prefix)\n",
        "@client.command()\n",
        "async def clear(ctx, amount=5):  # AAAHH DANGEROUS\n",
        "  amount = min(amount, 5)  # stop people abusing\n",
        "  await ctx.channel.purge(limit=amount)\n",
        "client.run(\"NzM1MDg2Njc5NTYzNjk4MzA2.XxbJ0Q.U41A9mG92MeX-sppsHQMCoxzltY\")"
      ],
      "execution_count": null,
      "outputs": []
    },
    {
      "cell_type": "markdown",
      "metadata": {
        "id": "PeYtvIUxRb-y",
        "colab_type": "text"
      },
      "source": [
        "```\n",
        "Ignoring exception in command clear:\n",
        "Traceback (most recent call last):\n",
        "  File \"/usr/local/lib/python3.6/dist-packages/discord/iterators.py\", line 265, in next\n",
        "    return self.messages.get_nowait()\n",
        "  File \"/usr/lib/python3.6/asyncio/queues.py\", line 189, in get_nowait\n",
        "    raise QueueEmpty\n",
        "asyncio.queues.QueueEmpty\n",
        "\n",
        "During handling of the above exception, another exception occurred:\n",
        "\n",
        "Traceback (most recent call last):\n",
        "  File \"/usr/local/lib/python3.6/dist-packages/discord/channel.py\", line 372, in purge\n",
        "    msg = await iterator.next()\n",
        "  File \"/usr/local/lib/python3.6/dist-packages/discord/iterators.py\", line 267, in next\n",
        "    raise NoMoreItems()\n",
        "discord.errors.NoMoreItems\n",
        "\n",
        "During handling of the above exception, another exception occurred:\n",
        "\n",
        "Traceback (most recent call last):\n",
        "  File \"/usr/local/lib/python3.6/dist-packages/discord/ext/commands/core.py\", line 83, in wrapped\n",
        "    ret = await coro(*args, **kwargs)\n",
        "  File \"<ipython-input-1-c2739b9fb4fb>\", line 8, in clear\n",
        "    await ctx.channel.purge(limit=amount)\n",
        "  File \"/usr/local/lib/python3.6/dist-packages/discord/channel.py\", line 378, in purge\n",
        "    await strategy(to_delete)\n",
        "  File \"/usr/local/lib/python3.6/dist-packages/discord/channel.py\", line 296, in delete_messages\n",
        "    await self._state.http.delete_messages(self.id, message_ids)\n",
        "  File \"/usr/local/lib/python3.6/dist-packages/discord/http.py\", line 221, in request\n",
        "    raise Forbidden(r, data)\n",
        "discord.errors.Forbidden: 403 Forbidden (error code: 50013): Missing Permissions\n",
        "\n",
        "The above exception was the direct cause of the following exception:\n",
        "\n",
        "Traceback (most recent call last):\n",
        "  File \"/usr/local/lib/python3.6/dist-packages/discord/ext/commands/bot.py\", line 892, in invoke\n",
        "    await ctx.command.invoke(ctx)\n",
        "  File \"/usr/local/lib/python3.6/dist-packages/discord/ext/commands/core.py\", line 797, in invoke\n",
        "    await injected(*ctx.args, **ctx.kwargs)\n",
        "  File \"/usr/local/lib/python3.6/dist-packages/discord/ext/commands/core.py\", line 92, in wrapped\n",
        "    raise CommandInvokeError(exc) from exc\n",
        "discord.ext.commands.errors.CommandInvokeError: Command raised an exception: Forbidden: 403 Forbidden (error code: 50013): Missing Permissions\n",
        "```\n",
        "missing perms but i cba to fix"
      ]
    },
    {
      "cell_type": "code",
      "metadata": {
        "id": "_EV_OZ6WT-yo",
        "colab_type": "code",
        "colab": {
          "base_uri": "https://localhost:8080/",
          "height": 350
        },
        "outputId": "6e09f69f-83df-4228-f4ab-aaea7f1737f5"
      },
      "source": [
        "import discord\n",
        "from discord.ext import commands\n",
        "prefix = \"w\"\n",
        "client = commands.Bot(command_prefix=prefix)\n",
        "@client.command(aliases=[\"ho's\"])\n",
        "async def hj(ctx, *, person):\n",
        "  if person == \"joe\":\n",
        "    await ctx.send(\"JOE MAMA\")\n",
        "  else:\n",
        "    await ctx.send(\"idk lol\")\n",
        "client.run(\"NzM1MDg2Njc5NTYzNjk4MzA2.XxbJ0Q.U41A9mG92MeX-sppsHQMCoxzltY\")"
      ],
      "execution_count": null,
      "outputs": [
        {
          "output_type": "error",
          "ename": "RuntimeError",
          "evalue": "ignored",
          "traceback": [
            "\u001b[0;31m---------------------------------------------------------------------------\u001b[0m",
            "\u001b[0;31mRuntimeError\u001b[0m                              Traceback (most recent call last)",
            "\u001b[0;32m<ipython-input-1-569e33c8e01d>\u001b[0m in \u001b[0;36m<module>\u001b[0;34m()\u001b[0m\n\u001b[1;32m      9\u001b[0m   \u001b[0;32melse\u001b[0m\u001b[0;34m:\u001b[0m\u001b[0;34m\u001b[0m\u001b[0;34m\u001b[0m\u001b[0m\n\u001b[1;32m     10\u001b[0m     \u001b[0mawait\u001b[0m \u001b[0mctx\u001b[0m\u001b[0;34m.\u001b[0m\u001b[0msend\u001b[0m\u001b[0;34m(\u001b[0m\u001b[0;34m\"idk lol\"\u001b[0m\u001b[0;34m)\u001b[0m\u001b[0;34m\u001b[0m\u001b[0;34m\u001b[0m\u001b[0m\n\u001b[0;32m---> 11\u001b[0;31m \u001b[0mclient\u001b[0m\u001b[0;34m.\u001b[0m\u001b[0mrun\u001b[0m\u001b[0;34m(\u001b[0m\u001b[0;34m\"NzM1MDg2Njc5NTYzNjk4MzA2.XxbJ0Q.U41A9mG92MeX-sppsHQMCoxzltY\"\u001b[0m\u001b[0;34m)\u001b[0m\u001b[0;34m\u001b[0m\u001b[0;34m\u001b[0m\u001b[0m\n\u001b[0m",
            "\u001b[0;32m/usr/local/lib/python3.6/dist-packages/discord/client.py\u001b[0m in \u001b[0;36mrun\u001b[0;34m(self, *args, **kwargs)\u001b[0m\n\u001b[1;32m    635\u001b[0m             \u001b[0mfuture\u001b[0m\u001b[0;34m.\u001b[0m\u001b[0mremove_done_callback\u001b[0m\u001b[0;34m(\u001b[0m\u001b[0mstop_loop_on_completion\u001b[0m\u001b[0;34m)\u001b[0m\u001b[0;34m\u001b[0m\u001b[0;34m\u001b[0m\u001b[0m\n\u001b[1;32m    636\u001b[0m             \u001b[0mlog\u001b[0m\u001b[0;34m.\u001b[0m\u001b[0minfo\u001b[0m\u001b[0;34m(\u001b[0m\u001b[0;34m'Cleaning up tasks.'\u001b[0m\u001b[0;34m)\u001b[0m\u001b[0;34m\u001b[0m\u001b[0;34m\u001b[0m\u001b[0m\n\u001b[0;32m--> 637\u001b[0;31m             \u001b[0m_cleanup_loop\u001b[0m\u001b[0;34m(\u001b[0m\u001b[0mloop\u001b[0m\u001b[0;34m)\u001b[0m\u001b[0;34m\u001b[0m\u001b[0;34m\u001b[0m\u001b[0m\n\u001b[0m\u001b[1;32m    638\u001b[0m \u001b[0;34m\u001b[0m\u001b[0m\n\u001b[1;32m    639\u001b[0m         \u001b[0;32mif\u001b[0m \u001b[0;32mnot\u001b[0m \u001b[0mfuture\u001b[0m\u001b[0;34m.\u001b[0m\u001b[0mcancelled\u001b[0m\u001b[0;34m(\u001b[0m\u001b[0;34m)\u001b[0m\u001b[0;34m:\u001b[0m\u001b[0;34m\u001b[0m\u001b[0;34m\u001b[0m\u001b[0m\n",
            "\u001b[0;32m/usr/local/lib/python3.6/dist-packages/discord/client.py\u001b[0m in \u001b[0;36m_cleanup_loop\u001b[0;34m(loop)\u001b[0m\n\u001b[1;32m     90\u001b[0m \u001b[0;32mdef\u001b[0m \u001b[0m_cleanup_loop\u001b[0m\u001b[0;34m(\u001b[0m\u001b[0mloop\u001b[0m\u001b[0;34m)\u001b[0m\u001b[0;34m:\u001b[0m\u001b[0;34m\u001b[0m\u001b[0;34m\u001b[0m\u001b[0m\n\u001b[1;32m     91\u001b[0m     \u001b[0;32mtry\u001b[0m\u001b[0;34m:\u001b[0m\u001b[0;34m\u001b[0m\u001b[0;34m\u001b[0m\u001b[0m\n\u001b[0;32m---> 92\u001b[0;31m         \u001b[0m_cancel_tasks\u001b[0m\u001b[0;34m(\u001b[0m\u001b[0mloop\u001b[0m\u001b[0;34m)\u001b[0m\u001b[0;34m\u001b[0m\u001b[0;34m\u001b[0m\u001b[0m\n\u001b[0m\u001b[1;32m     93\u001b[0m         \u001b[0;32mif\u001b[0m \u001b[0msys\u001b[0m\u001b[0;34m.\u001b[0m\u001b[0mversion_info\u001b[0m \u001b[0;34m>=\u001b[0m \u001b[0;34m(\u001b[0m\u001b[0;36m3\u001b[0m\u001b[0;34m,\u001b[0m \u001b[0;36m6\u001b[0m\u001b[0;34m)\u001b[0m\u001b[0;34m:\u001b[0m\u001b[0;34m\u001b[0m\u001b[0;34m\u001b[0m\u001b[0m\n\u001b[1;32m     94\u001b[0m             \u001b[0mloop\u001b[0m\u001b[0;34m.\u001b[0m\u001b[0mrun_until_complete\u001b[0m\u001b[0;34m(\u001b[0m\u001b[0mloop\u001b[0m\u001b[0;34m.\u001b[0m\u001b[0mshutdown_asyncgens\u001b[0m\u001b[0;34m(\u001b[0m\u001b[0;34m)\u001b[0m\u001b[0;34m)\u001b[0m\u001b[0;34m\u001b[0m\u001b[0;34m\u001b[0m\u001b[0m\n",
            "\u001b[0;32m/usr/local/lib/python3.6/dist-packages/discord/client.py\u001b[0m in \u001b[0;36m_cancel_tasks\u001b[0;34m(loop)\u001b[0m\n\u001b[1;32m     75\u001b[0m         \u001b[0mtask\u001b[0m\u001b[0;34m.\u001b[0m\u001b[0mcancel\u001b[0m\u001b[0;34m(\u001b[0m\u001b[0;34m)\u001b[0m\u001b[0;34m\u001b[0m\u001b[0;34m\u001b[0m\u001b[0m\n\u001b[1;32m     76\u001b[0m \u001b[0;34m\u001b[0m\u001b[0m\n\u001b[0;32m---> 77\u001b[0;31m     \u001b[0mloop\u001b[0m\u001b[0;34m.\u001b[0m\u001b[0mrun_until_complete\u001b[0m\u001b[0;34m(\u001b[0m\u001b[0masyncio\u001b[0m\u001b[0;34m.\u001b[0m\u001b[0mgather\u001b[0m\u001b[0;34m(\u001b[0m\u001b[0;34m*\u001b[0m\u001b[0mtasks\u001b[0m\u001b[0;34m,\u001b[0m \u001b[0mreturn_exceptions\u001b[0m\u001b[0;34m=\u001b[0m\u001b[0;32mTrue\u001b[0m\u001b[0;34m)\u001b[0m\u001b[0;34m)\u001b[0m\u001b[0;34m\u001b[0m\u001b[0;34m\u001b[0m\u001b[0m\n\u001b[0m\u001b[1;32m     78\u001b[0m     \u001b[0mlog\u001b[0m\u001b[0;34m.\u001b[0m\u001b[0minfo\u001b[0m\u001b[0;34m(\u001b[0m\u001b[0;34m'All tasks finished cancelling.'\u001b[0m\u001b[0;34m)\u001b[0m\u001b[0;34m\u001b[0m\u001b[0;34m\u001b[0m\u001b[0m\n\u001b[1;32m     79\u001b[0m \u001b[0;34m\u001b[0m\u001b[0m\n",
            "\u001b[0;32m/usr/lib/python3.6/asyncio/base_events.py\u001b[0m in \u001b[0;36mrun_until_complete\u001b[0;34m(self, future)\u001b[0m\n\u001b[1;32m    480\u001b[0m             \u001b[0mfuture\u001b[0m\u001b[0;34m.\u001b[0m\u001b[0mremove_done_callback\u001b[0m\u001b[0;34m(\u001b[0m\u001b[0m_run_until_complete_cb\u001b[0m\u001b[0;34m)\u001b[0m\u001b[0;34m\u001b[0m\u001b[0;34m\u001b[0m\u001b[0m\n\u001b[1;32m    481\u001b[0m         \u001b[0;32mif\u001b[0m \u001b[0;32mnot\u001b[0m \u001b[0mfuture\u001b[0m\u001b[0;34m.\u001b[0m\u001b[0mdone\u001b[0m\u001b[0;34m(\u001b[0m\u001b[0;34m)\u001b[0m\u001b[0;34m:\u001b[0m\u001b[0;34m\u001b[0m\u001b[0;34m\u001b[0m\u001b[0m\n\u001b[0;32m--> 482\u001b[0;31m             \u001b[0;32mraise\u001b[0m \u001b[0mRuntimeError\u001b[0m\u001b[0;34m(\u001b[0m\u001b[0;34m'Event loop stopped before Future completed.'\u001b[0m\u001b[0;34m)\u001b[0m\u001b[0;34m\u001b[0m\u001b[0;34m\u001b[0m\u001b[0m\n\u001b[0m\u001b[1;32m    483\u001b[0m \u001b[0;34m\u001b[0m\u001b[0m\n\u001b[1;32m    484\u001b[0m         \u001b[0;32mreturn\u001b[0m \u001b[0mfuture\u001b[0m\u001b[0;34m.\u001b[0m\u001b[0mresult\u001b[0m\u001b[0;34m(\u001b[0m\u001b[0;34m)\u001b[0m\u001b[0;34m\u001b[0m\u001b[0;34m\u001b[0m\u001b[0m\n",
            "\u001b[0;31mRuntimeError\u001b[0m: Event loop stopped before Future completed."
          ]
        }
      ]
    },
    {
      "cell_type": "code",
      "metadata": {
        "id": "UIlEK6-tUQjg",
        "colab_type": "code",
        "colab": {
          "base_uri": "https://localhost:8080/",
          "height": 334
        },
        "outputId": "cfd1fed2-4800-4054-b9d8-15df5e472081"
      },
      "source": [
        "import discord\n",
        "from discord.ext import commands\n",
        "from time import sleep\n",
        "prefix = \".\"\n",
        "client = commands.Bot(command_prefix=prefix)\n",
        "@client.command()\n",
        "async def win(ctx):\n",
        "  while True:\n",
        "    await ctx.send(\"Type\")\n",
        "    time.sleep(60)  # we need async sleep here\n",
        "client.run(\"NzM1MDg2Njc5NTYzNjk4MzA2.XxbJ0Q.U41A9mG92MeX-sppsHQMCoxzltY\")"
      ],
      "execution_count": null,
      "outputs": [
        {
          "output_type": "stream",
          "text": [
            "Ignoring exception in command win:\n",
            "Traceback (most recent call last):\n",
            "  File \"/usr/local/lib/python3.6/dist-packages/discord/ext/commands/core.py\", line 83, in wrapped\n",
            "    ret = await coro(*args, **kwargs)\n",
            "  File \"<ipython-input-1-fb4a52ef52fd>\", line 10, in win\n",
            "    time.sleep(60)\n",
            "NameError: name 'time' is not defined\n",
            "\n",
            "The above exception was the direct cause of the following exception:\n",
            "\n",
            "Traceback (most recent call last):\n",
            "  File \"/usr/local/lib/python3.6/dist-packages/discord/ext/commands/bot.py\", line 892, in invoke\n",
            "    await ctx.command.invoke(ctx)\n",
            "  File \"/usr/local/lib/python3.6/dist-packages/discord/ext/commands/core.py\", line 797, in invoke\n",
            "    await injected(*ctx.args, **ctx.kwargs)\n",
            "  File \"/usr/local/lib/python3.6/dist-packages/discord/ext/commands/core.py\", line 92, in wrapped\n",
            "    raise CommandInvokeError(exc) from exc\n",
            "discord.ext.commands.errors.CommandInvokeError: Command raised an exception: NameError: name 'time' is not defined\n"
          ],
          "name": "stderr"
        }
      ]
    },
    {
      "cell_type": "markdown",
      "metadata": {
        "id": "G4Olg1rqWfBN",
        "colab_type": "text"
      },
      "source": [
        "mee6 is TOO SMART"
      ]
    },
    {
      "cell_type": "code",
      "metadata": {
        "id": "5DCgbWYeWFCn",
        "colab_type": "code",
        "colab": {
          "base_uri": "https://localhost:8080/",
          "height": 455
        },
        "outputId": "efae9d05-bab3-4930-ff2f-9862913ccc94"
      },
      "source": [
        "import discord\n",
        "from discord.ext import commands\n",
        "import asyncio\n",
        "prefix = \"\"\n",
        "client = commands.Bot(command_prefix=prefix)\n",
        "@client.command()\n",
        "async def pogs(ctx):\n",
        "  await asyncio.sleep(10)\n",
        "  await ctx.send(\"ON FILM\")\n",
        "client.run(\"NzM1MDg2Njc5NTYzNjk4MzA2.XxbJ0Q.U41A9mG92MeX-sppsHQMCoxzltY\")"
      ],
      "execution_count": null,
      "outputs": [
        {
          "output_type": "stream",
          "text": [
            "Ignoring exception in command None:\n",
            "discord.ext.commands.errors.CommandNotFound: Command \"wait\" is not found\n",
            "Ignoring exception in command None:\n",
            "discord.ext.commands.errors.CommandNotFound: Command \"what\" is not found\n",
            "Ignoring exception in command None:\n",
            "discord.ext.commands.errors.CommandNotFound: Command \"oh\" is not found\n"
          ],
          "name": "stderr"
        },
        {
          "output_type": "error",
          "ename": "RuntimeError",
          "evalue": "ignored",
          "traceback": [
            "\u001b[0;31m---------------------------------------------------------------------------\u001b[0m",
            "\u001b[0;31mRuntimeError\u001b[0m                              Traceback (most recent call last)",
            "\u001b[0;32m<ipython-input-1-696e4b64c49b>\u001b[0m in \u001b[0;36m<module>\u001b[0;34m()\u001b[0m\n\u001b[1;32m      8\u001b[0m   \u001b[0mawait\u001b[0m \u001b[0masyncio\u001b[0m\u001b[0;34m.\u001b[0m\u001b[0msleep\u001b[0m\u001b[0;34m(\u001b[0m\u001b[0;36m10\u001b[0m\u001b[0;34m)\u001b[0m\u001b[0;34m\u001b[0m\u001b[0;34m\u001b[0m\u001b[0m\n\u001b[1;32m      9\u001b[0m   \u001b[0mawait\u001b[0m \u001b[0mctx\u001b[0m\u001b[0;34m.\u001b[0m\u001b[0msend\u001b[0m\u001b[0;34m(\u001b[0m\u001b[0;34m\"ON FILM\"\u001b[0m\u001b[0;34m)\u001b[0m\u001b[0;34m\u001b[0m\u001b[0;34m\u001b[0m\u001b[0m\n\u001b[0;32m---> 10\u001b[0;31m \u001b[0mclient\u001b[0m\u001b[0;34m.\u001b[0m\u001b[0mrun\u001b[0m\u001b[0;34m(\u001b[0m\u001b[0;34m\"NzM1MDg2Njc5NTYzNjk4MzA2.XxbJ0Q.U41A9mG92MeX-sppsHQMCoxzltY\"\u001b[0m\u001b[0;34m)\u001b[0m\u001b[0;34m\u001b[0m\u001b[0;34m\u001b[0m\u001b[0m\n\u001b[0m",
            "\u001b[0;32m/usr/local/lib/python3.6/dist-packages/discord/client.py\u001b[0m in \u001b[0;36mrun\u001b[0;34m(self, *args, **kwargs)\u001b[0m\n\u001b[1;32m    635\u001b[0m             \u001b[0mfuture\u001b[0m\u001b[0;34m.\u001b[0m\u001b[0mremove_done_callback\u001b[0m\u001b[0;34m(\u001b[0m\u001b[0mstop_loop_on_completion\u001b[0m\u001b[0;34m)\u001b[0m\u001b[0;34m\u001b[0m\u001b[0;34m\u001b[0m\u001b[0m\n\u001b[1;32m    636\u001b[0m             \u001b[0mlog\u001b[0m\u001b[0;34m.\u001b[0m\u001b[0minfo\u001b[0m\u001b[0;34m(\u001b[0m\u001b[0;34m'Cleaning up tasks.'\u001b[0m\u001b[0;34m)\u001b[0m\u001b[0;34m\u001b[0m\u001b[0;34m\u001b[0m\u001b[0m\n\u001b[0;32m--> 637\u001b[0;31m             \u001b[0m_cleanup_loop\u001b[0m\u001b[0;34m(\u001b[0m\u001b[0mloop\u001b[0m\u001b[0;34m)\u001b[0m\u001b[0;34m\u001b[0m\u001b[0;34m\u001b[0m\u001b[0m\n\u001b[0m\u001b[1;32m    638\u001b[0m \u001b[0;34m\u001b[0m\u001b[0m\n\u001b[1;32m    639\u001b[0m         \u001b[0;32mif\u001b[0m \u001b[0;32mnot\u001b[0m \u001b[0mfuture\u001b[0m\u001b[0;34m.\u001b[0m\u001b[0mcancelled\u001b[0m\u001b[0;34m(\u001b[0m\u001b[0;34m)\u001b[0m\u001b[0;34m:\u001b[0m\u001b[0;34m\u001b[0m\u001b[0;34m\u001b[0m\u001b[0m\n",
            "\u001b[0;32m/usr/local/lib/python3.6/dist-packages/discord/client.py\u001b[0m in \u001b[0;36m_cleanup_loop\u001b[0;34m(loop)\u001b[0m\n\u001b[1;32m     90\u001b[0m \u001b[0;32mdef\u001b[0m \u001b[0m_cleanup_loop\u001b[0m\u001b[0;34m(\u001b[0m\u001b[0mloop\u001b[0m\u001b[0;34m)\u001b[0m\u001b[0;34m:\u001b[0m\u001b[0;34m\u001b[0m\u001b[0;34m\u001b[0m\u001b[0m\n\u001b[1;32m     91\u001b[0m     \u001b[0;32mtry\u001b[0m\u001b[0;34m:\u001b[0m\u001b[0;34m\u001b[0m\u001b[0;34m\u001b[0m\u001b[0m\n\u001b[0;32m---> 92\u001b[0;31m         \u001b[0m_cancel_tasks\u001b[0m\u001b[0;34m(\u001b[0m\u001b[0mloop\u001b[0m\u001b[0;34m)\u001b[0m\u001b[0;34m\u001b[0m\u001b[0;34m\u001b[0m\u001b[0m\n\u001b[0m\u001b[1;32m     93\u001b[0m         \u001b[0;32mif\u001b[0m \u001b[0msys\u001b[0m\u001b[0;34m.\u001b[0m\u001b[0mversion_info\u001b[0m \u001b[0;34m>=\u001b[0m \u001b[0;34m(\u001b[0m\u001b[0;36m3\u001b[0m\u001b[0;34m,\u001b[0m \u001b[0;36m6\u001b[0m\u001b[0;34m)\u001b[0m\u001b[0;34m:\u001b[0m\u001b[0;34m\u001b[0m\u001b[0;34m\u001b[0m\u001b[0m\n\u001b[1;32m     94\u001b[0m             \u001b[0mloop\u001b[0m\u001b[0;34m.\u001b[0m\u001b[0mrun_until_complete\u001b[0m\u001b[0;34m(\u001b[0m\u001b[0mloop\u001b[0m\u001b[0;34m.\u001b[0m\u001b[0mshutdown_asyncgens\u001b[0m\u001b[0;34m(\u001b[0m\u001b[0;34m)\u001b[0m\u001b[0;34m)\u001b[0m\u001b[0;34m\u001b[0m\u001b[0;34m\u001b[0m\u001b[0m\n",
            "\u001b[0;32m/usr/local/lib/python3.6/dist-packages/discord/client.py\u001b[0m in \u001b[0;36m_cancel_tasks\u001b[0;34m(loop)\u001b[0m\n\u001b[1;32m     75\u001b[0m         \u001b[0mtask\u001b[0m\u001b[0;34m.\u001b[0m\u001b[0mcancel\u001b[0m\u001b[0;34m(\u001b[0m\u001b[0;34m)\u001b[0m\u001b[0;34m\u001b[0m\u001b[0;34m\u001b[0m\u001b[0m\n\u001b[1;32m     76\u001b[0m \u001b[0;34m\u001b[0m\u001b[0m\n\u001b[0;32m---> 77\u001b[0;31m     \u001b[0mloop\u001b[0m\u001b[0;34m.\u001b[0m\u001b[0mrun_until_complete\u001b[0m\u001b[0;34m(\u001b[0m\u001b[0masyncio\u001b[0m\u001b[0;34m.\u001b[0m\u001b[0mgather\u001b[0m\u001b[0;34m(\u001b[0m\u001b[0;34m*\u001b[0m\u001b[0mtasks\u001b[0m\u001b[0;34m,\u001b[0m \u001b[0mreturn_exceptions\u001b[0m\u001b[0;34m=\u001b[0m\u001b[0;32mTrue\u001b[0m\u001b[0;34m)\u001b[0m\u001b[0;34m)\u001b[0m\u001b[0;34m\u001b[0m\u001b[0;34m\u001b[0m\u001b[0m\n\u001b[0m\u001b[1;32m     78\u001b[0m     \u001b[0mlog\u001b[0m\u001b[0;34m.\u001b[0m\u001b[0minfo\u001b[0m\u001b[0;34m(\u001b[0m\u001b[0;34m'All tasks finished cancelling.'\u001b[0m\u001b[0;34m)\u001b[0m\u001b[0;34m\u001b[0m\u001b[0;34m\u001b[0m\u001b[0m\n\u001b[1;32m     79\u001b[0m \u001b[0;34m\u001b[0m\u001b[0m\n",
            "\u001b[0;32m/usr/lib/python3.6/asyncio/base_events.py\u001b[0m in \u001b[0;36mrun_until_complete\u001b[0;34m(self, future)\u001b[0m\n\u001b[1;32m    480\u001b[0m             \u001b[0mfuture\u001b[0m\u001b[0;34m.\u001b[0m\u001b[0mremove_done_callback\u001b[0m\u001b[0;34m(\u001b[0m\u001b[0m_run_until_complete_cb\u001b[0m\u001b[0;34m)\u001b[0m\u001b[0;34m\u001b[0m\u001b[0;34m\u001b[0m\u001b[0m\n\u001b[1;32m    481\u001b[0m         \u001b[0;32mif\u001b[0m \u001b[0;32mnot\u001b[0m \u001b[0mfuture\u001b[0m\u001b[0;34m.\u001b[0m\u001b[0mdone\u001b[0m\u001b[0;34m(\u001b[0m\u001b[0;34m)\u001b[0m\u001b[0;34m:\u001b[0m\u001b[0;34m\u001b[0m\u001b[0;34m\u001b[0m\u001b[0m\n\u001b[0;32m--> 482\u001b[0;31m             \u001b[0;32mraise\u001b[0m \u001b[0mRuntimeError\u001b[0m\u001b[0;34m(\u001b[0m\u001b[0;34m'Event loop stopped before Future completed.'\u001b[0m\u001b[0;34m)\u001b[0m\u001b[0;34m\u001b[0m\u001b[0;34m\u001b[0m\u001b[0m\n\u001b[0m\u001b[1;32m    483\u001b[0m \u001b[0;34m\u001b[0m\u001b[0m\n\u001b[1;32m    484\u001b[0m         \u001b[0;32mreturn\u001b[0m \u001b[0mfuture\u001b[0m\u001b[0;34m.\u001b[0m\u001b[0mresult\u001b[0m\u001b[0;34m(\u001b[0m\u001b[0;34m)\u001b[0m\u001b[0;34m\u001b[0m\u001b[0;34m\u001b[0m\u001b[0m\n",
            "\u001b[0;31mRuntimeError\u001b[0m: Event loop stopped before Future completed."
          ]
        }
      ]
    },
    {
      "cell_type": "code",
      "metadata": {
        "id": "FuX_RVMnZZsq",
        "colab_type": "code",
        "colab": {}
      },
      "source": [
        "text = '''\n",
        "```\n",
        " ______ _______ _______ _______      _______ _______      _______ _______ _____   _______ \n",
        "|   __ \\       |     __|     __|    |       |    |  |    |    ___|_     _|     |_|   |   |\n",
        "|    __/   -   |    |  |__     |    |   -   |       |    |    ___|_|   |_|       |       |\n",
        "|___|  |_______|_______|_______|    |_______|__|____|    |___|   |_______|_______|__|_|__|\n",
        "```\n",
        "'''\n",
        "gifs = []"
      ],
      "execution_count": null,
      "outputs": []
    },
    {
      "cell_type": "code",
      "metadata": {
        "id": "9eWiDbeB76Ey",
        "colab_type": "code",
        "colab": {
          "base_uri": "https://localhost:8080/",
          "height": 1000
        },
        "outputId": "cee75a35-6cd2-4c94-9a2d-239529e9d25c"
      },
      "source": [
        "import discord\n",
        "from discord.ext import commands\n",
        "prefix = \"\"\n",
        "client = commands.Bot(command_prefix=prefix)\n",
        "@client.command(aliases=[\"pogs on film\"])\n",
        "async def pof(ctx):\n",
        "  global text\n",
        "  await ctx.send(text)\n",
        "@client.command()\n",
        "async def pogs(ctx):\n",
        "  await ctx.send(\"on film\")\n",
        "@client.command()\n",
        "async def Type(ctx):\n",
        "  await ctx.send(\"plz stop\")\n",
        "@client.command(aliases=[\"who's joe\"])\n",
        "async def wj(ctx):\n",
        "  await ctx.send(\"JOE MAMA\")\n",
        "@client.command(aliases=[\"!rank\"])\n",
        "async def rank(ctx):\n",
        "  await ctx.send(\"ur bad lol\")\n",
        "@client.command(aliases=[\"@everyone\"])\n",
        "async def everyone(ctx):\n",
        "  await ctx.send(\"stop pinging everyone!\")\n",
        "@client.command(aliases=[\"!help\"])\n",
        "async def help(ctx):\n",
        "  await ctx.send(\"Commands:\\n\")\n",
        "client.run(\"NzM1MDg2Njc5NTYzNjk4MzA2.XxbJ0Q.U41A9mG92MeX-sppsHQMCoxzltY\")"
      ],
      "execution_count": null,
      "outputs": [
        {
          "output_type": "stream",
          "text": [
            "Ignoring exception in command None:\n",
            "discord.ext.commands.errors.CommandNotFound: Command \"watch\" is not found\n",
            "Ignoring exception in command Type:\n",
            "Traceback (most recent call last):\n",
            "  File \"/usr/local/lib/python3.6/dist-packages/discord/ext/commands/core.py\", line 83, in wrapped\n",
            "    ret = await coro(*args, **kwargs)\n",
            "  File \"<ipython-input-2-89e85ef37aef>\", line 14, in Type\n",
            "    await ctx.send(\"plz stop\")\n",
            "  File \"/usr/local/lib/python3.6/dist-packages/discord/abc.py\", line 870, in send\n",
            "    data = await state.http.send_message(channel.id, content, tts=tts, embed=embed, nonce=nonce)\n",
            "  File \"/usr/local/lib/python3.6/dist-packages/discord/http.py\", line 221, in request\n",
            "    raise Forbidden(r, data)\n",
            "discord.errors.Forbidden: 403 Forbidden (error code: 50013): Missing Permissions\n",
            "\n",
            "The above exception was the direct cause of the following exception:\n",
            "\n",
            "Traceback (most recent call last):\n",
            "  File \"/usr/local/lib/python3.6/dist-packages/discord/ext/commands/bot.py\", line 892, in invoke\n",
            "    await ctx.command.invoke(ctx)\n",
            "  File \"/usr/local/lib/python3.6/dist-packages/discord/ext/commands/core.py\", line 797, in invoke\n",
            "    await injected(*ctx.args, **ctx.kwargs)\n",
            "  File \"/usr/local/lib/python3.6/dist-packages/discord/ext/commands/core.py\", line 92, in wrapped\n",
            "    raise CommandInvokeError(exc) from exc\n",
            "discord.ext.commands.errors.CommandInvokeError: Command raised an exception: Forbidden: 403 Forbidden (error code: 50013): Missing Permissions\n",
            "Ignoring exception in command None:\n",
            "discord.ext.commands.errors.CommandNotFound: Command \"yeh\" is not found\n",
            "Ignoring exception in command Type:\n",
            "Traceback (most recent call last):\n",
            "  File \"/usr/local/lib/python3.6/dist-packages/discord/ext/commands/core.py\", line 83, in wrapped\n",
            "    ret = await coro(*args, **kwargs)\n",
            "  File \"<ipython-input-2-89e85ef37aef>\", line 14, in Type\n",
            "    await ctx.send(\"plz stop\")\n",
            "  File \"/usr/local/lib/python3.6/dist-packages/discord/abc.py\", line 870, in send\n",
            "    data = await state.http.send_message(channel.id, content, tts=tts, embed=embed, nonce=nonce)\n",
            "  File \"/usr/local/lib/python3.6/dist-packages/discord/http.py\", line 221, in request\n",
            "    raise Forbidden(r, data)\n",
            "discord.errors.Forbidden: 403 Forbidden (error code: 50013): Missing Permissions\n",
            "\n",
            "The above exception was the direct cause of the following exception:\n",
            "\n",
            "Traceback (most recent call last):\n",
            "  File \"/usr/local/lib/python3.6/dist-packages/discord/ext/commands/bot.py\", line 892, in invoke\n",
            "    await ctx.command.invoke(ctx)\n",
            "  File \"/usr/local/lib/python3.6/dist-packages/discord/ext/commands/core.py\", line 797, in invoke\n",
            "    await injected(*ctx.args, **ctx.kwargs)\n",
            "  File \"/usr/local/lib/python3.6/dist-packages/discord/ext/commands/core.py\", line 92, in wrapped\n",
            "    raise CommandInvokeError(exc) from exc\n",
            "discord.ext.commands.errors.CommandInvokeError: Command raised an exception: Forbidden: 403 Forbidden (error code: 50013): Missing Permissions\n",
            "Ignoring exception in command Type:\n",
            "Traceback (most recent call last):\n",
            "  File \"/usr/local/lib/python3.6/dist-packages/discord/ext/commands/core.py\", line 83, in wrapped\n",
            "    ret = await coro(*args, **kwargs)\n",
            "  File \"<ipython-input-2-89e85ef37aef>\", line 14, in Type\n",
            "    await ctx.send(\"plz stop\")\n",
            "  File \"/usr/local/lib/python3.6/dist-packages/discord/abc.py\", line 870, in send\n",
            "    data = await state.http.send_message(channel.id, content, tts=tts, embed=embed, nonce=nonce)\n",
            "  File \"/usr/local/lib/python3.6/dist-packages/discord/http.py\", line 221, in request\n",
            "    raise Forbidden(r, data)\n",
            "discord.errors.Forbidden: 403 Forbidden (error code: 50013): Missing Permissions\n",
            "\n",
            "The above exception was the direct cause of the following exception:\n",
            "\n",
            "Traceback (most recent call last):\n",
            "  File \"/usr/local/lib/python3.6/dist-packages/discord/ext/commands/bot.py\", line 892, in invoke\n",
            "    await ctx.command.invoke(ctx)\n",
            "  File \"/usr/local/lib/python3.6/dist-packages/discord/ext/commands/core.py\", line 797, in invoke\n",
            "    await injected(*ctx.args, **ctx.kwargs)\n",
            "  File \"/usr/local/lib/python3.6/dist-packages/discord/ext/commands/core.py\", line 92, in wrapped\n",
            "    raise CommandInvokeError(exc) from exc\n",
            "discord.ext.commands.errors.CommandInvokeError: Command raised an exception: Forbidden: 403 Forbidden (error code: 50013): Missing Permissions\n",
            "Ignoring exception in command Type:\n",
            "Traceback (most recent call last):\n",
            "  File \"/usr/local/lib/python3.6/dist-packages/discord/ext/commands/core.py\", line 83, in wrapped\n",
            "    ret = await coro(*args, **kwargs)\n",
            "  File \"<ipython-input-2-89e85ef37aef>\", line 14, in Type\n",
            "    await ctx.send(\"plz stop\")\n",
            "  File \"/usr/local/lib/python3.6/dist-packages/discord/abc.py\", line 870, in send\n",
            "    data = await state.http.send_message(channel.id, content, tts=tts, embed=embed, nonce=nonce)\n",
            "  File \"/usr/local/lib/python3.6/dist-packages/discord/http.py\", line 221, in request\n",
            "    raise Forbidden(r, data)\n",
            "discord.errors.Forbidden: 403 Forbidden (error code: 50013): Missing Permissions\n",
            "\n",
            "The above exception was the direct cause of the following exception:\n",
            "\n",
            "Traceback (most recent call last):\n",
            "  File \"/usr/local/lib/python3.6/dist-packages/discord/ext/commands/bot.py\", line 892, in invoke\n",
            "    await ctx.command.invoke(ctx)\n",
            "  File \"/usr/local/lib/python3.6/dist-packages/discord/ext/commands/core.py\", line 797, in invoke\n",
            "    await injected(*ctx.args, **ctx.kwargs)\n",
            "  File \"/usr/local/lib/python3.6/dist-packages/discord/ext/commands/core.py\", line 92, in wrapped\n",
            "    raise CommandInvokeError(exc) from exc\n",
            "discord.ext.commands.errors.CommandInvokeError: Command raised an exception: Forbidden: 403 Forbidden (error code: 50013): Missing Permissions\n",
            "Ignoring exception in command Type:\n",
            "Traceback (most recent call last):\n",
            "  File \"/usr/local/lib/python3.6/dist-packages/discord/ext/commands/core.py\", line 83, in wrapped\n",
            "    ret = await coro(*args, **kwargs)\n",
            "  File \"<ipython-input-2-89e85ef37aef>\", line 14, in Type\n",
            "    await ctx.send(\"plz stop\")\n",
            "  File \"/usr/local/lib/python3.6/dist-packages/discord/abc.py\", line 870, in send\n",
            "    data = await state.http.send_message(channel.id, content, tts=tts, embed=embed, nonce=nonce)\n",
            "  File \"/usr/local/lib/python3.6/dist-packages/discord/http.py\", line 221, in request\n",
            "    raise Forbidden(r, data)\n",
            "discord.errors.Forbidden: 403 Forbidden (error code: 50013): Missing Permissions\n",
            "\n",
            "The above exception was the direct cause of the following exception:\n",
            "\n",
            "Traceback (most recent call last):\n",
            "  File \"/usr/local/lib/python3.6/dist-packages/discord/ext/commands/bot.py\", line 892, in invoke\n",
            "    await ctx.command.invoke(ctx)\n",
            "  File \"/usr/local/lib/python3.6/dist-packages/discord/ext/commands/core.py\", line 797, in invoke\n",
            "    await injected(*ctx.args, **ctx.kwargs)\n",
            "  File \"/usr/local/lib/python3.6/dist-packages/discord/ext/commands/core.py\", line 92, in wrapped\n",
            "    raise CommandInvokeError(exc) from exc\n",
            "discord.ext.commands.errors.CommandInvokeError: Command raised an exception: Forbidden: 403 Forbidden (error code: 50013): Missing Permissions\n",
            "Ignoring exception in command Type:\n",
            "Traceback (most recent call last):\n",
            "  File \"/usr/local/lib/python3.6/dist-packages/discord/ext/commands/core.py\", line 83, in wrapped\n",
            "    ret = await coro(*args, **kwargs)\n",
            "  File \"<ipython-input-2-89e85ef37aef>\", line 14, in Type\n",
            "    await ctx.send(\"plz stop\")\n",
            "  File \"/usr/local/lib/python3.6/dist-packages/discord/abc.py\", line 870, in send\n",
            "    data = await state.http.send_message(channel.id, content, tts=tts, embed=embed, nonce=nonce)\n",
            "  File \"/usr/local/lib/python3.6/dist-packages/discord/http.py\", line 221, in request\n",
            "    raise Forbidden(r, data)\n",
            "discord.errors.Forbidden: 403 Forbidden (error code: 50013): Missing Permissions\n",
            "\n",
            "The above exception was the direct cause of the following exception:\n",
            "\n",
            "Traceback (most recent call last):\n",
            "  File \"/usr/local/lib/python3.6/dist-packages/discord/ext/commands/bot.py\", line 892, in invoke\n",
            "    await ctx.command.invoke(ctx)\n",
            "  File \"/usr/local/lib/python3.6/dist-packages/discord/ext/commands/core.py\", line 797, in invoke\n",
            "    await injected(*ctx.args, **ctx.kwargs)\n",
            "  File \"/usr/local/lib/python3.6/dist-packages/discord/ext/commands/core.py\", line 92, in wrapped\n",
            "    raise CommandInvokeError(exc) from exc\n",
            "discord.ext.commands.errors.CommandInvokeError: Command raised an exception: Forbidden: 403 Forbidden (error code: 50013): Missing Permissions\n",
            "Ignoring exception in command Type:\n",
            "Traceback (most recent call last):\n",
            "  File \"/usr/local/lib/python3.6/dist-packages/discord/ext/commands/core.py\", line 83, in wrapped\n",
            "    ret = await coro(*args, **kwargs)\n",
            "  File \"<ipython-input-2-89e85ef37aef>\", line 14, in Type\n",
            "    await ctx.send(\"plz stop\")\n",
            "  File \"/usr/local/lib/python3.6/dist-packages/discord/abc.py\", line 870, in send\n",
            "    data = await state.http.send_message(channel.id, content, tts=tts, embed=embed, nonce=nonce)\n",
            "  File \"/usr/local/lib/python3.6/dist-packages/discord/http.py\", line 221, in request\n",
            "    raise Forbidden(r, data)\n",
            "discord.errors.Forbidden: 403 Forbidden (error code: 50013): Missing Permissions\n",
            "\n",
            "The above exception was the direct cause of the following exception:\n",
            "\n",
            "Traceback (most recent call last):\n",
            "  File \"/usr/local/lib/python3.6/dist-packages/discord/ext/commands/bot.py\", line 892, in invoke\n",
            "    await ctx.command.invoke(ctx)\n",
            "  File \"/usr/local/lib/python3.6/dist-packages/discord/ext/commands/core.py\", line 797, in invoke\n",
            "    await injected(*ctx.args, **ctx.kwargs)\n",
            "  File \"/usr/local/lib/python3.6/dist-packages/discord/ext/commands/core.py\", line 92, in wrapped\n",
            "    raise CommandInvokeError(exc) from exc\n",
            "discord.ext.commands.errors.CommandInvokeError: Command raised an exception: Forbidden: 403 Forbidden (error code: 50013): Missing Permissions\n",
            "Ignoring exception in command rank:\n",
            "Traceback (most recent call last):\n",
            "  File \"/usr/local/lib/python3.6/dist-packages/discord/ext/commands/core.py\", line 83, in wrapped\n",
            "    ret = await coro(*args, **kwargs)\n",
            "  File \"<ipython-input-2-89e85ef37aef>\", line 20, in rank\n",
            "    await ctx.send(\"ur bad lol\")\n",
            "  File \"/usr/local/lib/python3.6/dist-packages/discord/abc.py\", line 870, in send\n",
            "    data = await state.http.send_message(channel.id, content, tts=tts, embed=embed, nonce=nonce)\n",
            "  File \"/usr/local/lib/python3.6/dist-packages/discord/http.py\", line 221, in request\n",
            "    raise Forbidden(r, data)\n",
            "discord.errors.Forbidden: 403 Forbidden (error code: 50013): Missing Permissions\n",
            "\n",
            "The above exception was the direct cause of the following exception:\n",
            "\n",
            "Traceback (most recent call last):\n",
            "  File \"/usr/local/lib/python3.6/dist-packages/discord/ext/commands/bot.py\", line 892, in invoke\n",
            "    await ctx.command.invoke(ctx)\n",
            "  File \"/usr/local/lib/python3.6/dist-packages/discord/ext/commands/core.py\", line 797, in invoke\n",
            "    await injected(*ctx.args, **ctx.kwargs)\n",
            "  File \"/usr/local/lib/python3.6/dist-packages/discord/ext/commands/core.py\", line 92, in wrapped\n",
            "    raise CommandInvokeError(exc) from exc\n",
            "discord.ext.commands.errors.CommandInvokeError: Command raised an exception: Forbidden: 403 Forbidden (error code: 50013): Missing Permissions\n",
            "Ignoring exception in command Type:\n",
            "Traceback (most recent call last):\n",
            "  File \"/usr/local/lib/python3.6/dist-packages/discord/ext/commands/core.py\", line 83, in wrapped\n",
            "    ret = await coro(*args, **kwargs)\n",
            "  File \"<ipython-input-2-89e85ef37aef>\", line 14, in Type\n",
            "    await ctx.send(\"plz stop\")\n",
            "  File \"/usr/local/lib/python3.6/dist-packages/discord/abc.py\", line 870, in send\n",
            "    data = await state.http.send_message(channel.id, content, tts=tts, embed=embed, nonce=nonce)\n",
            "  File \"/usr/local/lib/python3.6/dist-packages/discord/http.py\", line 221, in request\n",
            "    raise Forbidden(r, data)\n",
            "discord.errors.Forbidden: 403 Forbidden (error code: 50013): Missing Permissions\n",
            "\n",
            "The above exception was the direct cause of the following exception:\n",
            "\n",
            "Traceback (most recent call last):\n",
            "  File \"/usr/local/lib/python3.6/dist-packages/discord/ext/commands/bot.py\", line 892, in invoke\n",
            "    await ctx.command.invoke(ctx)\n",
            "  File \"/usr/local/lib/python3.6/dist-packages/discord/ext/commands/core.py\", line 797, in invoke\n",
            "    await injected(*ctx.args, **ctx.kwargs)\n",
            "  File \"/usr/local/lib/python3.6/dist-packages/discord/ext/commands/core.py\", line 92, in wrapped\n",
            "    raise CommandInvokeError(exc) from exc\n",
            "discord.ext.commands.errors.CommandInvokeError: Command raised an exception: Forbidden: 403 Forbidden (error code: 50013): Missing Permissions\n",
            "Ignoring exception in command None:\n",
            "discord.ext.commands.errors.CommandNotFound: Command \"lmao\" is not found\n",
            "Ignoring exception in command None:\n",
            "discord.ext.commands.errors.CommandNotFound: Command \"(since\" is not found\n",
            "Ignoring exception in command None:\n",
            "discord.ext.commands.errors.CommandNotFound: Command \"well,\" is not found\n",
            "Ignoring exception in command Type:\n",
            "Traceback (most recent call last):\n",
            "  File \"/usr/local/lib/python3.6/dist-packages/discord/ext/commands/core.py\", line 83, in wrapped\n",
            "    ret = await coro(*args, **kwargs)\n",
            "  File \"<ipython-input-2-89e85ef37aef>\", line 14, in Type\n",
            "    await ctx.send(\"plz stop\")\n",
            "  File \"/usr/local/lib/python3.6/dist-packages/discord/abc.py\", line 870, in send\n",
            "    data = await state.http.send_message(channel.id, content, tts=tts, embed=embed, nonce=nonce)\n",
            "  File \"/usr/local/lib/python3.6/dist-packages/discord/http.py\", line 221, in request\n",
            "    raise Forbidden(r, data)\n",
            "discord.errors.Forbidden: 403 Forbidden (error code: 50013): Missing Permissions\n",
            "\n",
            "The above exception was the direct cause of the following exception:\n",
            "\n",
            "Traceback (most recent call last):\n",
            "  File \"/usr/local/lib/python3.6/dist-packages/discord/ext/commands/bot.py\", line 892, in invoke\n",
            "    await ctx.command.invoke(ctx)\n",
            "  File \"/usr/local/lib/python3.6/dist-packages/discord/ext/commands/core.py\", line 797, in invoke\n",
            "    await injected(*ctx.args, **ctx.kwargs)\n",
            "  File \"/usr/local/lib/python3.6/dist-packages/discord/ext/commands/core.py\", line 92, in wrapped\n",
            "    raise CommandInvokeError(exc) from exc\n",
            "discord.ext.commands.errors.CommandInvokeError: Command raised an exception: Forbidden: 403 Forbidden (error code: 50013): Missing Permissions\n",
            "Ignoring exception in command Type:\n",
            "Traceback (most recent call last):\n",
            "  File \"/usr/local/lib/python3.6/dist-packages/discord/ext/commands/core.py\", line 83, in wrapped\n",
            "    ret = await coro(*args, **kwargs)\n",
            "  File \"<ipython-input-2-89e85ef37aef>\", line 14, in Type\n",
            "    await ctx.send(\"plz stop\")\n",
            "  File \"/usr/local/lib/python3.6/dist-packages/discord/abc.py\", line 870, in send\n",
            "    data = await state.http.send_message(channel.id, content, tts=tts, embed=embed, nonce=nonce)\n",
            "  File \"/usr/local/lib/python3.6/dist-packages/discord/http.py\", line 221, in request\n",
            "    raise Forbidden(r, data)\n",
            "discord.errors.Forbidden: 403 Forbidden (error code: 50013): Missing Permissions\n",
            "\n",
            "The above exception was the direct cause of the following exception:\n",
            "\n",
            "Traceback (most recent call last):\n",
            "  File \"/usr/local/lib/python3.6/dist-packages/discord/ext/commands/bot.py\", line 892, in invoke\n",
            "    await ctx.command.invoke(ctx)\n",
            "  File \"/usr/local/lib/python3.6/dist-packages/discord/ext/commands/core.py\", line 797, in invoke\n",
            "    await injected(*ctx.args, **ctx.kwargs)\n",
            "  File \"/usr/local/lib/python3.6/dist-packages/discord/ext/commands/core.py\", line 92, in wrapped\n",
            "    raise CommandInvokeError(exc) from exc\n",
            "discord.ext.commands.errors.CommandInvokeError: Command raised an exception: Forbidden: 403 Forbidden (error code: 50013): Missing Permissions\n",
            "Ignoring exception in command None:\n",
            "discord.ext.commands.errors.CommandNotFound: Command \"lmao\" is not found\n",
            "Ignoring exception in command None:\n",
            "discord.ext.commands.errors.CommandNotFound: Command \"i\" is not found\n",
            "Ignoring exception in command None:\n",
            "discord.ext.commands.errors.CommandNotFound: Command \"-play\" is not found\n",
            "Ignoring exception in command None:\n",
            "discord.ext.commands.errors.CommandNotFound: Command \"-play\" is not found\n",
            "Ignoring exception in command None:\n",
            "discord.ext.commands.errors.CommandNotFound: Command \"-play\" is not found\n",
            "Ignoring exception in command None:\n",
            "discord.ext.commands.errors.CommandNotFound: Command \"-play\" is not found\n",
            "Ignoring exception in command None:\n",
            "discord.ext.commands.errors.CommandNotFound: Command \"-play\" is not found\n",
            "Ignoring exception in command None:\n",
            "discord.ext.commands.errors.CommandNotFound: Command \"-pause\" is not found\n",
            "Ignoring exception in command None:\n",
            "discord.ext.commands.errors.CommandNotFound: Command \"-resume\" is not found\n",
            "Ignoring exception in command Type:\n",
            "Traceback (most recent call last):\n",
            "  File \"/usr/local/lib/python3.6/dist-packages/discord/ext/commands/core.py\", line 83, in wrapped\n",
            "    ret = await coro(*args, **kwargs)\n",
            "  File \"<ipython-input-2-89e85ef37aef>\", line 14, in Type\n",
            "    await ctx.send(\"plz stop\")\n",
            "  File \"/usr/local/lib/python3.6/dist-packages/discord/abc.py\", line 870, in send\n",
            "    data = await state.http.send_message(channel.id, content, tts=tts, embed=embed, nonce=nonce)\n",
            "  File \"/usr/local/lib/python3.6/dist-packages/discord/http.py\", line 221, in request\n",
            "    raise Forbidden(r, data)\n",
            "discord.errors.Forbidden: 403 Forbidden (error code: 50013): Missing Permissions\n",
            "\n",
            "The above exception was the direct cause of the following exception:\n",
            "\n",
            "Traceback (most recent call last):\n",
            "  File \"/usr/local/lib/python3.6/dist-packages/discord/ext/commands/bot.py\", line 892, in invoke\n",
            "    await ctx.command.invoke(ctx)\n",
            "  File \"/usr/local/lib/python3.6/dist-packages/discord/ext/commands/core.py\", line 797, in invoke\n",
            "    await injected(*ctx.args, **ctx.kwargs)\n",
            "  File \"/usr/local/lib/python3.6/dist-packages/discord/ext/commands/core.py\", line 92, in wrapped\n",
            "    raise CommandInvokeError(exc) from exc\n",
            "discord.ext.commands.errors.CommandInvokeError: Command raised an exception: Forbidden: 403 Forbidden (error code: 50013): Missing Permissions\n",
            "Ignoring exception in command None:\n",
            "discord.ext.commands.errors.CommandNotFound: Command \"-play\" is not found\n",
            "Ignoring exception in command None:\n",
            "discord.ext.commands.errors.CommandNotFound: Command \"Interesting\" is not found\n",
            "Ignoring exception in command None:\n",
            "discord.ext.commands.errors.CommandNotFound: Command \"So\" is not found\n",
            "Ignoring exception in command None:\n",
            "discord.ext.commands.errors.CommandNotFound: Command \"Given\" is not found\n",
            "Ignoring exception in command None:\n",
            "discord.ext.commands.errors.CommandNotFound: Command \"Probably\" is not found\n",
            "Ignoring exception in command None:\n",
            "discord.ext.commands.errors.CommandNotFound: Command \"Find\" is not found\n",
            "Ignoring exception in command None:\n",
            "discord.ext.commands.errors.CommandNotFound: Command \"To\" is not found\n",
            "Ignoring exception in command None:\n",
            "discord.ext.commands.errors.CommandNotFound: Command \"I\" is not found\n",
            "Ignoring exception in command None:\n",
            "discord.ext.commands.errors.CommandNotFound: Command \"It's\" is not found\n",
            "Ignoring exception in command None:\n",
            "discord.ext.commands.errors.CommandNotFound: Command \"Like,\" is not found\n",
            "Ignoring exception in command None:\n",
            "discord.ext.commands.errors.CommandNotFound: Command \"this\" is not found\n",
            "Ignoring exception in command Type:\n",
            "Traceback (most recent call last):\n",
            "  File \"/usr/local/lib/python3.6/dist-packages/discord/ext/commands/core.py\", line 83, in wrapped\n",
            "    ret = await coro(*args, **kwargs)\n",
            "  File \"<ipython-input-2-89e85ef37aef>\", line 14, in Type\n",
            "    await ctx.send(\"plz stop\")\n",
            "  File \"/usr/local/lib/python3.6/dist-packages/discord/abc.py\", line 870, in send\n",
            "    data = await state.http.send_message(channel.id, content, tts=tts, embed=embed, nonce=nonce)\n",
            "  File \"/usr/local/lib/python3.6/dist-packages/discord/http.py\", line 221, in request\n",
            "    raise Forbidden(r, data)\n",
            "discord.errors.Forbidden: 403 Forbidden (error code: 50013): Missing Permissions\n",
            "\n",
            "The above exception was the direct cause of the following exception:\n",
            "\n",
            "Traceback (most recent call last):\n",
            "  File \"/usr/local/lib/python3.6/dist-packages/discord/ext/commands/bot.py\", line 892, in invoke\n",
            "    await ctx.command.invoke(ctx)\n",
            "  File \"/usr/local/lib/python3.6/dist-packages/discord/ext/commands/core.py\", line 797, in invoke\n",
            "    await injected(*ctx.args, **ctx.kwargs)\n",
            "  File \"/usr/local/lib/python3.6/dist-packages/discord/ext/commands/core.py\", line 92, in wrapped\n",
            "    raise CommandInvokeError(exc) from exc\n",
            "discord.ext.commands.errors.CommandInvokeError: Command raised an exception: Forbidden: 403 Forbidden (error code: 50013): Missing Permissions\n",
            "Ignoring exception in command None:\n",
            "discord.ext.commands.errors.CommandNotFound: Command \"I\" is not found\n",
            "Ignoring exception in command None:\n",
            "discord.ext.commands.errors.CommandNotFound: Command \"That\" is not found\n",
            "Ignoring exception in command None:\n",
            "discord.ext.commands.errors.CommandNotFound: Command \"I\" is not found\n"
          ],
          "name": "stderr"
        }
      ]
    },
    {
      "cell_type": "code",
      "metadata": {
        "id": "QgMQcx8aY8X_",
        "colab_type": "code",
        "colab": {
          "base_uri": "https://localhost:8080/",
          "height": 350
        },
        "outputId": "6ae04828-6ef6-4e81-b946-758d59becc91"
      },
      "source": [
        "import discord\n",
        "from discord.ext import commands\n",
        "import asyncio\n",
        "prefix = \"\"\n",
        "client = commands.Bot(command_prefix=prefix)\n",
        "@client.command()\n",
        "async def name(ctx):\n",
        "  await ctx.send(ctx.author)\n",
        "client.run(\"NzM1MDg2Njc5NTYzNjk4MzA2.XxbJ0Q.U41A9mG92MeX-sppsHQMCoxzltY\")"
      ],
      "execution_count": null,
      "outputs": [
        {
          "output_type": "error",
          "ename": "RuntimeError",
          "evalue": "ignored",
          "traceback": [
            "\u001b[0;31m---------------------------------------------------------------------------\u001b[0m",
            "\u001b[0;31mRuntimeError\u001b[0m                              Traceback (most recent call last)",
            "\u001b[0;32m<ipython-input-2-968d876998cf>\u001b[0m in \u001b[0;36m<module>\u001b[0;34m()\u001b[0m\n\u001b[1;32m      7\u001b[0m \u001b[0;34masync\u001b[0m \u001b[0;32mdef\u001b[0m \u001b[0mlink\u001b[0m\u001b[0;34m(\u001b[0m\u001b[0mctx\u001b[0m\u001b[0;34m)\u001b[0m\u001b[0;34m:\u001b[0m\u001b[0;34m\u001b[0m\u001b[0;34m\u001b[0m\u001b[0m\n\u001b[1;32m      8\u001b[0m   \u001b[0mawait\u001b[0m \u001b[0mctx\u001b[0m\u001b[0;34m.\u001b[0m\u001b[0msend\u001b[0m\u001b[0;34m(\u001b[0m\u001b[0mctx\u001b[0m\u001b[0;34m.\u001b[0m\u001b[0mauthor\u001b[0m\u001b[0;34m)\u001b[0m\u001b[0;34m\u001b[0m\u001b[0;34m\u001b[0m\u001b[0m\n\u001b[0;32m----> 9\u001b[0;31m \u001b[0mclient\u001b[0m\u001b[0;34m.\u001b[0m\u001b[0mrun\u001b[0m\u001b[0;34m(\u001b[0m\u001b[0;34m\"NzM1MDg2Njc5NTYzNjk4MzA2.XxbJ0Q.U41A9mG92MeX-sppsHQMCoxzltY\"\u001b[0m\u001b[0;34m)\u001b[0m\u001b[0;34m\u001b[0m\u001b[0;34m\u001b[0m\u001b[0m\n\u001b[0m",
            "\u001b[0;32m/usr/local/lib/python3.6/dist-packages/discord/client.py\u001b[0m in \u001b[0;36mrun\u001b[0;34m(self, *args, **kwargs)\u001b[0m\n\u001b[1;32m    612\u001b[0m \u001b[0;34m\u001b[0m\u001b[0m\n\u001b[1;32m    613\u001b[0m         \u001b[0;32mtry\u001b[0m\u001b[0;34m:\u001b[0m\u001b[0;34m\u001b[0m\u001b[0;34m\u001b[0m\u001b[0m\n\u001b[0;32m--> 614\u001b[0;31m             \u001b[0mloop\u001b[0m\u001b[0;34m.\u001b[0m\u001b[0madd_signal_handler\u001b[0m\u001b[0;34m(\u001b[0m\u001b[0msignal\u001b[0m\u001b[0;34m.\u001b[0m\u001b[0mSIGINT\u001b[0m\u001b[0;34m,\u001b[0m \u001b[0;32mlambda\u001b[0m\u001b[0;34m:\u001b[0m \u001b[0mloop\u001b[0m\u001b[0;34m.\u001b[0m\u001b[0mstop\u001b[0m\u001b[0;34m(\u001b[0m\u001b[0;34m)\u001b[0m\u001b[0;34m)\u001b[0m\u001b[0;34m\u001b[0m\u001b[0;34m\u001b[0m\u001b[0m\n\u001b[0m\u001b[1;32m    615\u001b[0m             \u001b[0mloop\u001b[0m\u001b[0;34m.\u001b[0m\u001b[0madd_signal_handler\u001b[0m\u001b[0;34m(\u001b[0m\u001b[0msignal\u001b[0m\u001b[0;34m.\u001b[0m\u001b[0mSIGTERM\u001b[0m\u001b[0;34m,\u001b[0m \u001b[0;32mlambda\u001b[0m\u001b[0;34m:\u001b[0m \u001b[0mloop\u001b[0m\u001b[0;34m.\u001b[0m\u001b[0mstop\u001b[0m\u001b[0;34m(\u001b[0m\u001b[0;34m)\u001b[0m\u001b[0;34m)\u001b[0m\u001b[0;34m\u001b[0m\u001b[0;34m\u001b[0m\u001b[0m\n\u001b[1;32m    616\u001b[0m         \u001b[0;32mexcept\u001b[0m \u001b[0mNotImplementedError\u001b[0m\u001b[0;34m:\u001b[0m\u001b[0;34m\u001b[0m\u001b[0;34m\u001b[0m\u001b[0m\n",
            "\u001b[0;32m/usr/lib/python3.6/asyncio/unix_events.py\u001b[0m in \u001b[0;36madd_signal_handler\u001b[0;34m(self, sig, callback, *args)\u001b[0m\n\u001b[1;32m     92\u001b[0m                             \"with add_signal_handler()\")\n\u001b[1;32m     93\u001b[0m         \u001b[0mself\u001b[0m\u001b[0;34m.\u001b[0m\u001b[0m_check_signal\u001b[0m\u001b[0;34m(\u001b[0m\u001b[0msig\u001b[0m\u001b[0;34m)\u001b[0m\u001b[0;34m\u001b[0m\u001b[0;34m\u001b[0m\u001b[0m\n\u001b[0;32m---> 94\u001b[0;31m         \u001b[0mself\u001b[0m\u001b[0;34m.\u001b[0m\u001b[0m_check_closed\u001b[0m\u001b[0;34m(\u001b[0m\u001b[0;34m)\u001b[0m\u001b[0;34m\u001b[0m\u001b[0;34m\u001b[0m\u001b[0m\n\u001b[0m\u001b[1;32m     95\u001b[0m         \u001b[0;32mtry\u001b[0m\u001b[0;34m:\u001b[0m\u001b[0;34m\u001b[0m\u001b[0;34m\u001b[0m\u001b[0m\n\u001b[1;32m     96\u001b[0m             \u001b[0;31m# set_wakeup_fd() raises ValueError if this is not the\u001b[0m\u001b[0;34m\u001b[0m\u001b[0;34m\u001b[0m\u001b[0;34m\u001b[0m\u001b[0m\n",
            "\u001b[0;32m/usr/lib/python3.6/asyncio/base_events.py\u001b[0m in \u001b[0;36m_check_closed\u001b[0;34m(self)\u001b[0m\n\u001b[1;32m    375\u001b[0m     \u001b[0;32mdef\u001b[0m \u001b[0m_check_closed\u001b[0m\u001b[0;34m(\u001b[0m\u001b[0mself\u001b[0m\u001b[0;34m)\u001b[0m\u001b[0;34m:\u001b[0m\u001b[0;34m\u001b[0m\u001b[0;34m\u001b[0m\u001b[0m\n\u001b[1;32m    376\u001b[0m         \u001b[0;32mif\u001b[0m \u001b[0mself\u001b[0m\u001b[0;34m.\u001b[0m\u001b[0m_closed\u001b[0m\u001b[0;34m:\u001b[0m\u001b[0;34m\u001b[0m\u001b[0;34m\u001b[0m\u001b[0m\n\u001b[0;32m--> 377\u001b[0;31m             \u001b[0;32mraise\u001b[0m \u001b[0mRuntimeError\u001b[0m\u001b[0;34m(\u001b[0m\u001b[0;34m'Event loop is closed'\u001b[0m\u001b[0;34m)\u001b[0m\u001b[0;34m\u001b[0m\u001b[0;34m\u001b[0m\u001b[0m\n\u001b[0m\u001b[1;32m    378\u001b[0m \u001b[0;34m\u001b[0m\u001b[0m\n\u001b[1;32m    379\u001b[0m     \u001b[0;32mdef\u001b[0m \u001b[0m_asyncgen_finalizer_hook\u001b[0m\u001b[0;34m(\u001b[0m\u001b[0mself\u001b[0m\u001b[0;34m,\u001b[0m \u001b[0magen\u001b[0m\u001b[0;34m)\u001b[0m\u001b[0;34m:\u001b[0m\u001b[0;34m\u001b[0m\u001b[0;34m\u001b[0m\u001b[0m\n",
            "\u001b[0;31mRuntimeError\u001b[0m: Event loop is closed"
          ]
        }
      ]
    },
    {
      "cell_type": "code",
      "metadata": {
        "id": "6VhLM2OiUpEl",
        "colab_type": "code",
        "colab": {}
      },
      "source": [
        ""
      ],
      "execution_count": null,
      "outputs": []
    }
  ]
}