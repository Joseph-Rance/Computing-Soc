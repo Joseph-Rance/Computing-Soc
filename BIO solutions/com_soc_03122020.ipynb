{
  "nbformat": 4,
  "nbformat_minor": 0,
  "metadata": {
    "colab": {
      "name": "com soc 03122020.ipynb",
      "provenance": []
    },
    "kernelspec": {
      "name": "python3",
      "display_name": "Python 3"
    }
  },
  "cells": [
    {
      "cell_type": "code",
      "metadata": {
        "id": "DrpKNNWlg8r2"
      },
      "source": [
        "def get_next_row(row):  # [\"B\", \"G\", ...]\n",
        "  output = []\n",
        "  colours = [\"R\", \"G\", \"B\"]\n",
        "\n",
        "  if len(row) == 1:\n",
        "    return row\n",
        "\n",
        "  for i in range(len(row)-1):\n",
        "    if row[i] == row[i+1]:\n",
        "      output.append(row[i])\n",
        "    else:\n",
        "      for colour in colours:\n",
        "        if row[i] != colour != row[i+1]:\n",
        "          output.append(colour)\n",
        "\n",
        "  return get_next_row(output)"
      ],
      "execution_count": 7,
      "outputs": []
    },
    {
      "cell_type": "code",
      "metadata": {
        "colab": {
          "base_uri": "https://localhost:8080/",
          "height": 332
        },
        "id": "WY18Ef_LlyVu",
        "outputId": "6c6118d9-fd07-4cfd-bea2-7510b6f1d7d0"
      },
      "source": [
        "get_next_row([char for char in input()])[0]"
      ],
      "execution_count": 18,
      "outputs": [
        {
          "output_type": "stream",
          "text": [
            "BBG\n"
          ],
          "name": "stdout"
        },
        {
          "output_type": "error",
          "ename": "RecursionError",
          "evalue": "ignored",
          "traceback": [
            "\u001b[0;31m---------------------------------------------------------------------------\u001b[0m",
            "\u001b[0;31mRecursionError\u001b[0m                            Traceback (most recent call last)",
            "\u001b[0;32m<ipython-input-18-a4e7c3adbe46>\u001b[0m in \u001b[0;36m<module>\u001b[0;34m()\u001b[0m\n\u001b[0;32m----> 1\u001b[0;31m \u001b[0mget_next_row\u001b[0m\u001b[0;34m(\u001b[0m\u001b[0;34m[\u001b[0m\u001b[0mchar\u001b[0m \u001b[0;32mfor\u001b[0m \u001b[0mchar\u001b[0m \u001b[0;32min\u001b[0m \u001b[0minput\u001b[0m\u001b[0;34m(\u001b[0m\u001b[0;34m)\u001b[0m\u001b[0;34m]\u001b[0m\u001b[0;34m)\u001b[0m\u001b[0;34m[\u001b[0m\u001b[0;36m0\u001b[0m\u001b[0;34m]\u001b[0m\u001b[0;34m\u001b[0m\u001b[0;34m\u001b[0m\u001b[0m\n\u001b[0m",
            "\u001b[0;32m<ipython-input-17-cfedd90516ed>\u001b[0m in \u001b[0;36mget_next_row\u001b[0;34m(row)\u001b[0m\n\u001b[1;32m     14\u001b[0m           \u001b[0moutput\u001b[0m\u001b[0;34m.\u001b[0m\u001b[0mappend\u001b[0m\u001b[0;34m(\u001b[0m\u001b[0mcolour\u001b[0m\u001b[0;34m)\u001b[0m\u001b[0;34m\u001b[0m\u001b[0;34m\u001b[0m\u001b[0m\n\u001b[1;32m     15\u001b[0m \u001b[0;34m\u001b[0m\u001b[0m\n\u001b[0;32m---> 16\u001b[0;31m   \u001b[0;32mreturn\u001b[0m \u001b[0mget_next_row\u001b[0m\u001b[0;34m(\u001b[0m\u001b[0moutput\u001b[0m\u001b[0;34m)\u001b[0m\u001b[0;34m\u001b[0m\u001b[0;34m\u001b[0m\u001b[0m\n\u001b[0m",
            "... last 1 frames repeated, from the frame below ...\n",
            "\u001b[0;32m<ipython-input-17-cfedd90516ed>\u001b[0m in \u001b[0;36mget_next_row\u001b[0;34m(row)\u001b[0m\n\u001b[1;32m     14\u001b[0m           \u001b[0moutput\u001b[0m\u001b[0;34m.\u001b[0m\u001b[0mappend\u001b[0m\u001b[0;34m(\u001b[0m\u001b[0mcolour\u001b[0m\u001b[0;34m)\u001b[0m\u001b[0;34m\u001b[0m\u001b[0;34m\u001b[0m\u001b[0m\n\u001b[1;32m     15\u001b[0m \u001b[0;34m\u001b[0m\u001b[0m\n\u001b[0;32m---> 16\u001b[0;31m   \u001b[0;32mreturn\u001b[0m \u001b[0mget_next_row\u001b[0m\u001b[0;34m(\u001b[0m\u001b[0moutput\u001b[0m\u001b[0;34m)\u001b[0m\u001b[0;34m\u001b[0m\u001b[0;34m\u001b[0m\u001b[0m\n\u001b[0m",
            "\u001b[0;31mRecursionError\u001b[0m: maximum recursion depth exceeded in comparison"
          ]
        }
      ]
    },
    {
      "cell_type": "code",
      "metadata": {
        "id": "g7C5RV5LoH2e"
      },
      "source": [
        "def get_interest(interest, repayment):  # interest: 0.1 -> 10%\n",
        "  debt, total_repaid = 100, 0\n",
        "  repayment, interest = repayment/100, interest/100\n",
        "\n",
        "  while debt > 0:\n",
        "    debt *= interest + 1\n",
        "    debt = round(debt, 2)\n",
        "    temp = repayment * debt\n",
        "    debt -= round(max(50, temp), 2)\n",
        "\n",
        "    total_repaid += round(max(50, temp), 2)\n",
        "\n",
        "  if debt < 0:\n",
        "    total_repaid += debt\n",
        "\n",
        "  return round(total_repaid, 2)"
      ],
      "execution_count": null,
      "outputs": []
    },
    {
      "cell_type": "code",
      "metadata": {
        "id": "DRKlnpF8vCHW"
      },
      "source": [
        "a = [[get_interest(j, i) for j in range(1, 101, 5)] for i in range(1, 101, 5)]"
      ],
      "execution_count": 45,
      "outputs": []
    },
    {
      "cell_type": "code",
      "metadata": {
        "colab": {
          "base_uri": "https://localhost:8080/",
          "height": 282
        },
        "id": "g9NrFWfJvKft",
        "outputId": "9bcb861d-8d86-4bfd-dc30-ac98019a003b"
      },
      "source": [
        "import matplotlib.pyplot as plt\n",
        "\n",
        "plt.imshow(a)"
      ],
      "execution_count": 46,
      "outputs": [
        {
          "output_type": "execute_result",
          "data": {
            "text/plain": [
              "<matplotlib.image.AxesImage at 0x7fe46cfde9b0>"
            ]
          },
          "metadata": {
            "tags": []
          },
          "execution_count": 46
        },
        {
          "output_type": "display_data",
          "data": {
            "image/png": "[encoded data removed]",
            "text/plain": [
              "<Figure size 432x288 with 1 Axes>"
            ]
          },
          "metadata": {
            "tags": [],
            "needs_background": "light"
          }
        }
      ]
    },
    {
      "cell_type": "code",
      "metadata": {
        "id": "PW1AvoV4wGaV"
      },
      "source": [
        "repayment = 40 interest = 17*5"
      ],
      "execution_count": null,
      "outputs": []
    }
  ]
}