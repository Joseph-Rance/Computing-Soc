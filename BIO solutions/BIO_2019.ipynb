{
  "nbformat": 4,
  "nbformat_minor": 0,
  "metadata": {
    "colab": {
      "name": "BIO 2019.ipynb",
      "provenance": [],
      "collapsed_sections": []
    },
    "kernelspec": {
      "name": "python3",
      "display_name": "Python 3"
    }
  },
  "cells": [
    {
      "cell_type": "code",
      "metadata": {
        "id": "zZs8JfNebwI7"
      },
      "source": [
        "from math import floor"
      ],
      "execution_count": null,
      "outputs": []
    },
    {
      "cell_type": "code",
      "metadata": {
        "id": "SIO1A4pIUnbL"
      },
      "source": [
        "def is_palindrome(number):\n",
        "  number_string = str(number)\n",
        "  return number_string == number_string[::-1]"
      ],
      "execution_count": null,
      "outputs": []
    },
    {
      "cell_type": "code",
      "metadata": {
        "id": "b6SGWs8gYDw8"
      },
      "source": [
        "def next_palindrome(number):\n",
        "  number += 1\n",
        "  while not is_palindrome(number):\n",
        "    number += 1\n",
        "  return number"
      ],
      "execution_count": null,
      "outputs": []
    },
    {
      "cell_type": "code",
      "metadata": {
        "id": "JbQjoiBRb76P",
        "outputId": "bbf143b9-0dd1-46be-b0b1-de782d1216c3",
        "colab": {
          "base_uri": "https://localhost:8080/"
        }
      },
      "source": [
        "next_palindrome(99)"
      ],
      "execution_count": null,
      "outputs": [
        {
          "output_type": "execute_result",
          "data": {
            "text/plain": [
              "101"
            ]
          },
          "metadata": {
            "tags": []
          },
          "execution_count": 103
        }
      ]
    },
    {
      "cell_type": "code",
      "metadata": {
        "id": "cRe_94Xufko9"
      },
      "source": [
        "def next_palindrome(number):\n",
        "  number_string = str(number)\n",
        "  centre = floor(len(number_string)/2)\n",
        "\n",
        "  if str(number_string).replace(\"9\", \"\") == \"\":\n",
        "    return int(\"1\" + \"\".join([\"0\" for i in range(len(number_string)-1)]) + \"1\")\n",
        "\n",
        "  if len(number_string) % 2 == 1:\n",
        "\n",
        "    start = number_string[:centre+1]\n",
        "    start = str(int(start) + 1)\n",
        "    \n",
        "    return int(start + start[-2::-1])\n",
        "\n",
        "  start = number_string[:centre]\n",
        "  start = str(int(start) + 1)\n",
        "\n",
        "  return int(start + start[::-1])"
      ],
      "execution_count": null,
      "outputs": []
    },
    {
      "cell_type": "code",
      "metadata": {
        "id": "UNRKC82If8AB",
        "outputId": "c77bfaaf-25f3-4219-f7f1-42c58dcdf962",
        "colab": {
          "base_uri": "https://localhost:8080/"
        }
      },
      "source": [
        "next_palindrome(676)"
      ],
      "execution_count": null,
      "outputs": [
        {
          "output_type": "execute_result",
          "data": {
            "text/plain": [
              "686"
            ]
          },
          "metadata": {
            "tags": []
          },
          "execution_count": 105
        }
      ]
    },
    {
      "cell_type": "code",
      "metadata": {
        "id": "3yj0MMTVgFlM"
      },
      "source": [
        ""
      ],
      "execution_count": null,
      "outputs": []
    }
  ]
}