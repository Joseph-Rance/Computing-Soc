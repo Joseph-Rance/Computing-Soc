{
  "nbformat": 4,
  "nbformat_minor": 0,
  "metadata": {
    "colab": {
      "name": "BIO_2019.ipynb",
      "provenance": [],
      "collapsed_sections": []
    },
    "kernelspec": {
      "name": "python3",
      "display_name": "Python 3"
    }
  },
  "cells": [
    {
      "cell_type": "code",
      "metadata": {
        "id": "_qhX1yjl7AaL"
      },
      "source": [
        "from math import floor"
      ],
      "execution_count": 3,
      "outputs": []
    },
    {
      "cell_type": "code",
      "metadata": {
        "id": "zXdJVKCR69IQ"
      },
      "source": [
        "def next_palindrome(number):\n",
        "  number_string = str(number)\n",
        "  centre = floor(len(number_string)/2)\n",
        "\n",
        "  if str(number_string).replace(\"9\", \"\") == \"\":\n",
        "    return int(\"1\" + \"\".join([\"0\" for i in range(len(number_string)-1)]) + \"1\")\n",
        "\n",
        "  if len(number_string) % 2 == 1:\n",
        "\n",
        "    start = number_string[:centre+1]\n",
        "    end = number_string[centre:]\n",
        "    if int(start[::-1]) < int(end): \n",
        "      start = str(int(start) + 1)\n",
        "    \n",
        "    return int(start + start[-2::-1])\n",
        "\n",
        "  start = number_string[:centre]\n",
        "  start = str(int(start) + 1)\n",
        "\n",
        "  return int(start + start[::-1])"
      ],
      "execution_count": 9,
      "outputs": []
    },
    {
      "cell_type": "code",
      "metadata": {
        "id": "jr9e0e0v69nr",
        "outputId": "23866c11-7358-4be7-babf-2fea4e4ef3eb",
        "colab": {
          "base_uri": "https://localhost:8080/"
        }
      },
      "source": [
        "next_palindrome(123765432)"
      ],
      "execution_count": 10,
      "outputs": [
        {
          "output_type": "execute_result",
          "data": {
            "text/plain": [
              "123767321"
            ]
          },
          "metadata": {
            "tags": []
          },
          "execution_count": 10
        }
      ]
    },
    {
      "cell_type": "code",
      "metadata": {
        "id": "xbqT-y6J6_VV"
      },
      "source": [
        ""
      ],
      "execution_count": null,
      "outputs": []
    }
  ]
}