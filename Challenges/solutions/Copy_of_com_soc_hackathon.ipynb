{
  "nbformat": 4,
  "nbformat_minor": 0,
  "metadata": {
    "colab": {
      "name": "Copy of com soc hackathon.ipynb",
      "provenance": [],
      "collapsed_sections": []
    },
    "kernelspec": {
      "name": "python3",
      "display_name": "Python 3"
    }
  },
  "cells": [
    {
      "cell_type": "markdown",
      "metadata": {
        "id": "rBBJnQloMLqz"
      },
      "source": [
        "### PLEASE DO NOT WRITE YOUR CODE DIRECTLY IN THIS NOTEBOOK. MAKE A COPY BY GOING TO FILE > SAVE A COPY IN DRIVE\n",
        "Recently home from his shopping trip, Pratykash is now hungry. He has a large library of recipies, but doesn't know what to cook. He needs you help to pick what to make.\n",
        "\n",
        "The task is to create a search engine that helps Pratyaksh decide what he wants to make. How the search engine works is up to you, but it should return a list of dishes ranked in order from most relevant to least relevant. You can determine relevance from whichever factors you want (e.g. keywords, ingredients, or similar dishes that Pratykash has already had).\n",
        "\n",
        "Becuase we only have one hour, you won't be judged on the interface, so a plain python interface is fine (i.e. you can get the information about what Pratyaksh is searching for through normal python inputs).\n",
        "\n",
        "You will be scored on 4 main criteria:\n",
        "1. How intuitive is the search tool to use?\n",
        "2. How accurate are the results it returns (e.g. if it has an option for food country of origin, is the food returned from that country)?\n",
        "3. How \"intelligent\" is the search algorithm (an intelligent algorithm may take into account many factors such as food popularity and similarity to dishes Pratyaksh has already had, rather than just one or two)\n",
        "4. How original the idea is\n",
        "\n",
        "We will present our solutions next week, and the winner will be decided by vote\n",
        "\n",
        "The recipies are supplied in this notebook (there is a `dishes` list where each element contains a dictionary which describes a single dish), along with a basic, example search engine:"
      ]
    },
    {
      "cell_type": "code",
      "metadata": {
        "id": "WdCNJeZmMK16",
        "colab": {
          "base_uri": "https://localhost:8080/"
        },
        "outputId": "da8290ea-7532-4299-c61b-c8848011e1e8"
      },
      "source": [
        "!wget https://raw.githubusercontent.com/Joseph-Rance/Computing-Soc/master/Challenges/com%20soc%20ingredients.txt"
      ],
      "execution_count": 244,
      "outputs": [
        {
          "output_type": "stream",
          "text": [
            "--2020-11-19 18:09:15--  https://raw.githubusercontent.com/Joseph-Rance/Computing-Soc/master/Challenges/com%20soc%20ingredients.txt\n",
            "Resolving raw.githubusercontent.com (raw.githubusercontent.com)... 151.101.0.133, 151.101.64.133, 151.101.128.133, ...\n",
            "Connecting to raw.githubusercontent.com (raw.githubusercontent.com)|151.101.0.133|:443... connected.\n",
            "HTTP request sent, awaiting response... 200 OK\n",
            "Length: 5627 (5.5K) [text/plain]\n",
            "Saving to: ‘com soc ingredients.txt.19’\n",
            "\n",
            "\r          com soc i   0%[                    ]       0  --.-KB/s               \rcom soc ingredients 100%[===================>]   5.50K  --.-KB/s    in 0s      \n",
            "\n",
            "2020-11-19 18:09:15 (69.8 MB/s) - ‘com soc ingredients.txt.19’ saved [5627/5627]\n",
            "\n"
          ],
          "name": "stdout"
        }
      ]
    },
    {
      "cell_type": "code",
      "metadata": {
        "id": "YrJJq0A2fw_p"
      },
      "source": [
        "with open(\"com soc ingredients.txt\", \"r\") as f:\n",
        "  raw = f.read()"
      ],
      "execution_count": 245,
      "outputs": []
    },
    {
      "cell_type": "code",
      "metadata": {
        "id": "EOPzAGP_f9dv",
        "colab": {
          "base_uri": "https://localhost:8080/"
        },
        "outputId": "fa73a0e8-3582-40fd-cd37-f49b53fc82a2"
      },
      "source": [
        "dishes = []\n",
        "\n",
        "for i in raw.split(\"\\n\")[1:-1]:\n",
        "  name, popularity, pop_change, similar, cost, like, country, ingredients, link, course, description, cals, time = i.split(\", \")\n",
        "  similar, ingredients = similar.split(\" | \"), ingredients.split(\" | \")\n",
        "  cost, cals, time = float(cost), int(cals), float(time)\n",
        "  like = 1 if like == \"Y\" else (-1 if like == \"N\" else 0)\n",
        "  dishes.append({\"Name\": name, \"Polularity\": popularity, \"Popularity change\": pop_change, \"Similar dishes\": similar, \"cost\": cost, \"Liked by Pratyaksh\": like, \"Country\": country, \"Ingredients\": ingredients, \"Desc\": description, \"Calories\": cals, \"Prep time\": time})\n",
        "\n",
        "print(f\"No. Dishes: {len(dishes)}, example dish: {dishes[0]}\")"
      ],
      "execution_count": 246,
      "outputs": [
        {
          "output_type": "stream",
          "text": [
            "No. Dishes: 18, example dish: {'Name': 'pepperoni pizza', 'Polularity': '99', 'Popularity change': '0', 'Similar dishes': ['Margherita Pizza'], 'cost': 3.5, 'Liked by Pratyaksh': 1, 'Country': 'Italy', 'Ingredients': ['tomatoes', 'pepperoni', 'cheese'], 'Desc': 'Even a novice cook can master the art of pizza with our simple step-by-step guide. Bellissimo!', 'Calories': 431000, 'Prep time': 0.4}\n"
          ],
          "name": "stdout"
        }
      ]
    },
    {
      "cell_type": "code",
      "metadata": {
        "id": "AaECXcOsg2IW"
      },
      "source": [
        "def P_A(dishes, dish):\n",
        "\n",
        "  def P_AgB(a, b, dishes):\n",
        "    for i in list(dishes[a][\"Similar dishes\"]):\n",
        "        if (dishes[b][\"Name\"].upper() == i.upper()):\n",
        "            return 1\n",
        "    else:\n",
        "        for x in list(dishes[a][\"Similar dishes\"]):\n",
        "            for k in list(dishes[b][\"Similar dishes\"]):\n",
        "                if x.upper() == k.upper():\n",
        "                    return 0.5\n",
        "    return 0\n",
        "\n",
        "  if dish[\"Liked by Pratyaksh\"] == 1:\n",
        "    return 1\n",
        "  if dish[\"Liked by Pratyaksh\"] == -1: \n",
        "    return 0\n",
        "\n",
        "  a_dictionary = {\"one\": 1, \"two\" : 2, \"three\": 3}\n",
        "\n",
        "  for i in range(len(dishes)):\n",
        "    if dishes[i][\"Name\"] == dish[\"Name\"]:\n",
        "      dish_index = i\n",
        "      del dishes[i]\n",
        "      break\n",
        "\n",
        "  prob = 0\n",
        "  for i in range(len(dishes)):\n",
        "    prob += P_AgB(i, dish_index, dishes.copy()) * P_A(dishes.copy(), dishes[i].copy())\n",
        "\n",
        "  return prob"
      ],
      "execution_count": 247,
      "outputs": []
    },
    {
      "cell_type": "code",
      "metadata": {
        "id": "Eu8v_pUxm2JN",
        "colab": {
          "base_uri": "https://localhost:8080/"
        },
        "outputId": "4e1d750b-d87c-418f-a9eb-4a86ce2960c4"
      },
      "source": [
        "for i in dishes:\n",
        "  i[\"Prob\"] = P_A(dishes.copy(), i.copy())\n",
        "\n",
        "dishes = sorted(dishes, key=lambda x : x[\"Prob\"])[::-1][:5]\n",
        "\n",
        "for output in dishes:\n",
        "  print(f\"\\x1b[31m{output['Name']}\\x1b[0m\\n{output['Desc']}\\ncost: £{output['cost']}     ingredients: {', '.join(output['Ingredients'])}       probability of liking this dish: {round(output['Prob']/sum([i['Prob'] for i in dishes]), 2)}\", end=\"\\n\\n\")"
      ],
      "execution_count": 248,
      "outputs": [
        {
          "output_type": "stream",
          "text": [
            "\u001b[31mchow mein\u001b[0m\n",
            "A classic Chinese dish of stir-fried egg noodles with shredded chicken breast. Experiment with different fish meat or vegetables\n",
            "cost: £4.0     ingredients: noodles, mangetout, spring onions       probability of liking this dish: 0.3\n",
            "\n",
            "\u001b[31msweet and sour chicken\u001b[0m\n",
            "Try an authentic version of this classic Chinese takeaway dish with natural sweetness and a warm chilli flavour to spice things up\n",
            "cost: £4.0     ingredients: chicken, tomatoes       probability of liking this dish: 0.3\n",
            "\n",
            "\u001b[31mdosa\u001b[0m\n",
            "Make your own dosa – Indian rice pancakes made from fermented batter. They take a little effort but are delicious served with aloo masala and other fillings\n",
            "cost: £2.5     ingredients: lentils, rice       probability of liking this dish: 0.26\n",
            "\n",
            "\u001b[31mStrawberry ice cream\u001b[0m\n",
            "Use sweet strawberries whilst they’re in season to make this fabulous homemade strawberry ice cream. It's perfect on its own or as an accompaniment summer desserts\n",
            "cost: £1.0     ingredients:        probability of liking this dish: 0.07\n",
            "\n",
            "\u001b[31mhoisin wraps\u001b[0m\n",
            "Make this delicious healthy take on a Peking duck wrap for a speedy snack or tasty lunch.\n",
            "cost: £1.5     ingredients: chicken       probability of liking this dish: 0.07\n",
            "\n"
          ],
          "name": "stdout"
        }
      ]
    },
    {
      "cell_type": "code",
      "metadata": {
        "id": "HhVDwh5WsjLP"
      },
      "source": [
        ""
      ],
      "execution_count": 248,
      "outputs": []
    }
  ]
}